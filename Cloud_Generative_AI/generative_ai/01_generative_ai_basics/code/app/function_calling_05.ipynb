{
 "cells": [
  {
   "cell_type": "code",
   "execution_count": 1,
   "metadata": {},
   "outputs": [
    {
     "data": {
      "text/plain": [
       "'{\"location\": \"Karachi\", \"temperature\": \"10\", \"unit\": \"celsius\"}'"
      ]
     },
     "metadata": {},
     "output_type": "display_data"
    },
    {
     "data": {
      "text/plain": [
       "'{\"location\": \"Lahore\", \"temperature\": \"22\", \"unit\": \"celsius\"}'"
      ]
     },
     "metadata": {},
     "output_type": "display_data"
    }
   ],
   "source": [
    "# Example dummy function hard coded to return the same weather\n",
    "# In production, this could be your backend API or an external API\n",
    "import json\n",
    "def get_current_weather(location:str, unit:str=\"fahrenheit\")->str:\n",
    "    \"\"\"Get the current weather in a given location\"\"\"\n",
    "    if \"karachi\" in location.lower():\n",
    "        return json.dumps({\"location\": \"Karachi\", \"temperature\": \"10\", \"unit\": \"celsius\"})\n",
    "    elif \"islamabad\" in location.lower():\n",
    "        return json.dumps({\"location\": \"Islamabad\", \"temperature\": \"72\", \"unit\": \"fahrenheit\"})\n",
    "    elif \"lahore\" in location.lower():\n",
    "        return json.dumps({\"location\": \"Lahore\", \"temperature\": \"22\", \"unit\": \"celsius\"})\n",
    "    else:\n",
    "        return json.dumps({\"location\": location, \"temperature\": \"unknown\"})\n",
    "\n",
    "\n",
    "display(get_current_weather(\"karachi\"))\n",
    "display(get_current_weather(\"lahore\"))\n"
   ]
  },
  {
   "cell_type": "code",
   "execution_count": 2,
   "metadata": {},
   "outputs": [],
   "source": [
    "from openai import OpenAI\n",
    "from dotenv import load_dotenv, find_dotenv\n",
    "import os\n",
    "\n",
    "_:bool = load_dotenv(find_dotenv())\n",
    "\n",
    "client: OpenAI = OpenAI()"
   ]
  },
  {
   "cell_type": "code",
   "execution_count": 3,
   "metadata": {},
   "outputs": [],
   "source": [
    "from openai.types.chat.chat_completion import ChatCompletion,ChatCompletionMessage\n",
    "\n",
    "def chat_weather_bot(prompt:str)-> ChatCompletion:\n",
    "    response: ChatCompletion = client.chat.completions.create(\n",
    "        messages= [\n",
    "            {\n",
    "                \"role\":\"user\",\n",
    "                \"content\":prompt\n",
    "            }\n",
    "\n",
    "        ],\n",
    "        model = \"gpt-3.5-turbo-1106\",\n",
    "        tools = [\n",
    "            {\n",
    "            \"type\": \"function\",\n",
    "            \"function\": {\n",
    "                \"name\": \"get_current_weather\",\n",
    "                \"description\": \"Get the current weather in a given location\",\n",
    "                \"parameters\": {\n",
    "                    \"type\": \"object\",\n",
    "                    \"properties\": {\n",
    "                        \"location\": {\n",
    "                            \"type\": \"string\",\n",
    "                            \"description\": \"The city and state, e.g. lahore, karachi\",\n",
    "                        },\n",
    "                        \"unit\": {\"type\": \"string\", \"enum\": [\"celsius\", \"fahrenheit\"]},\n",
    "                    },\n",
    "                    \"required\": [\"location\"],\n",
    "                    },\n",
    "                },\n",
    "            }\n",
    "\n",
    "        ],\n",
    "        tool_choice =\"auto\" \n",
    "    )\n",
    "    return response\n",
    "\n"
   ]
  },
  {
   "cell_type": "markdown",
   "metadata": {},
   "source": [
    "# post-mortem when there is a need to call one function \n",
    "# As here we will only have Lahore \"What is the weather like in Lahore \""
   ]
  },
  {
   "cell_type": "code",
   "execution_count": 4,
   "metadata": {},
   "outputs": [
    {
     "data": {
      "text/plain": [
       "ChatCompletion(id='chatcmpl-9e4ZvEbdU58R3iRnGZosoGo8ugAIX', choices=[Choice(finish_reason='tool_calls', index=0, logprobs=None, message=ChatCompletionMessage(content=None, role='assistant', function_call=None, tool_calls=[ChatCompletionMessageToolCall(id='call_1g7lssP6vHtAJxYj0h4zHXbY', function=Function(arguments='{\"location\":\"lahore\"}', name='get_current_weather'), type='function')]))], created=1719337747, model='gpt-3.5-turbo-1106', object='chat.completion', system_fingerprint='fp_3d37c73133', usage=CompletionUsage(completion_tokens=16, prompt_tokens=83, total_tokens=99))"
      ]
     },
     "metadata": {},
     "output_type": "display_data"
    }
   ],
   "source": [
    "response_single_function_call : ChatCompletionMessage =  chat_weather_bot(\"What is the weather like in Lahore \")\n",
    "display(response_single_function_call)"
   ]
  },
  {
   "cell_type": "code",
   "execution_count": 5,
   "metadata": {},
   "outputs": [
    {
     "data": {
      "text/plain": [
       "{'id': 'chatcmpl-9e4ZvEbdU58R3iRnGZosoGo8ugAIX',\n",
       " 'choices': [Choice(finish_reason='tool_calls', index=0, logprobs=None, message=ChatCompletionMessage(content=None, role='assistant', function_call=None, tool_calls=[ChatCompletionMessageToolCall(id='call_1g7lssP6vHtAJxYj0h4zHXbY', function=Function(arguments='{\"location\":\"lahore\"}', name='get_current_weather'), type='function')]))],\n",
       " 'created': 1719337747,\n",
       " 'model': 'gpt-3.5-turbo-1106',\n",
       " 'object': 'chat.completion',\n",
       " 'system_fingerprint': 'fp_3d37c73133',\n",
       " 'usage': CompletionUsage(completion_tokens=16, prompt_tokens=83, total_tokens=99)}"
      ]
     },
     "metadata": {},
     "output_type": "display_data"
    }
   ],
   "source": [
    "display(dict(response_single_function_call))"
   ]
  },
  {
   "cell_type": "code",
   "execution_count": 9,
   "metadata": {},
   "outputs": [
    {
     "data": {
      "text/plain": [
       "{'finish_reason': 'tool_calls',\n",
       " 'index': 0,\n",
       " 'logprobs': None,\n",
       " 'message': ChatCompletionMessage(content=None, role='assistant', function_call=None, tool_calls=[ChatCompletionMessageToolCall(id='call_1g7lssP6vHtAJxYj0h4zHXbY', function=Function(arguments='{\"location\":\"lahore\"}', name='get_current_weather'), type='function')])}"
      ]
     },
     "metadata": {},
     "output_type": "display_data"
    }
   ],
   "source": [
    "display(dict((response_single_function_call).choices[0]))"
   ]
  },
  {
   "cell_type": "code",
   "execution_count": 10,
   "metadata": {},
   "outputs": [
    {
     "data": {
      "text/plain": [
       "{'content': None,\n",
       " 'role': 'assistant',\n",
       " 'function_call': None,\n",
       " 'tool_calls': [ChatCompletionMessageToolCall(id='call_1g7lssP6vHtAJxYj0h4zHXbY', function=Function(arguments='{\"location\":\"lahore\"}', name='get_current_weather'), type='function')]}"
      ]
     },
     "metadata": {},
     "output_type": "display_data"
    }
   ],
   "source": [
    "display(dict((response_single_function_call).choices[0].message))"
   ]
  },
  {
   "cell_type": "code",
   "execution_count": 22,
   "metadata": {},
   "outputs": [
    {
     "data": {
      "text/plain": [
       "{'id': 'call_1g7lssP6vHtAJxYj0h4zHXbY',\n",
       " 'function': Function(arguments='{\"location\":\"lahore\"}', name='get_current_weather'),\n",
       " 'type': 'function'}"
      ]
     },
     "metadata": {},
     "output_type": "display_data"
    }
   ],
   "source": [
    "display(dict((response_single_function_call).choices[0].message.tool_calls[0]))"
   ]
  },
  {
   "cell_type": "code",
   "execution_count": 12,
   "metadata": {},
   "outputs": [
    {
     "data": {
      "text/plain": [
       "Function(arguments='{\"location\":\"lahore\"}', name='get_current_weather')"
      ]
     },
     "execution_count": 12,
     "metadata": {},
     "output_type": "execute_result"
    }
   ],
   "source": [
    "response_1 = (response_single_function_call).choices[0].message\n",
    "\n",
    "response_1.tool_calls[0].function\n"
   ]
  },
  {
   "cell_type": "code",
   "execution_count": 13,
   "metadata": {},
   "outputs": [
    {
     "data": {
      "text/plain": [
       "'{\"location\":\"lahore\"}'"
      ]
     },
     "execution_count": 13,
     "metadata": {},
     "output_type": "execute_result"
    }
   ],
   "source": [
    "response_1.tool_calls[0].function.arguments\n"
   ]
  },
  {
   "cell_type": "code",
   "execution_count": 24,
   "metadata": {},
   "outputs": [
    {
     "ename": "AttributeError",
     "evalue": "'str' object has no attribute 'location'",
     "output_type": "error",
     "traceback": [
      "\u001b[0;31m---------------------------------------------------------------------------\u001b[0m",
      "\u001b[0;31mAttributeError\u001b[0m                            Traceback (most recent call last)",
      "Cell \u001b[0;32mIn[24], line 1\u001b[0m\n\u001b[0;32m----> 1\u001b[0m \u001b[43mresponse_1\u001b[49m\u001b[38;5;241;43m.\u001b[39;49m\u001b[43mtool_calls\u001b[49m\u001b[43m[\u001b[49m\u001b[38;5;241;43m0\u001b[39;49m\u001b[43m]\u001b[49m\u001b[38;5;241;43m.\u001b[39;49m\u001b[43mfunction\u001b[49m\u001b[38;5;241;43m.\u001b[39;49m\u001b[43marguments\u001b[49m\u001b[38;5;241;43m.\u001b[39;49m\u001b[43mlocation\u001b[49m\n",
      "\u001b[0;31mAttributeError\u001b[0m: 'str' object has no attribute 'location'"
     ]
    }
   ],
   "source": [
    "response_1.tool_calls[0].function.arguments.location"
   ]
  },
  {
   "cell_type": "code",
   "execution_count": 25,
   "metadata": {},
   "outputs": [
    {
     "name": "stdout",
     "output_type": "stream",
     "text": [
      "{'location': 'lahore'}\n"
     ]
    }
   ],
   "source": [
    "import json\n",
    "\n",
    "#  json to python object conversion\n",
    "response_python_object = json.loads(response_1.tool_calls[0].function.arguments)\n",
    "print(response_python_object)\n"
   ]
  },
  {
   "cell_type": "code",
   "execution_count": 30,
   "metadata": {},
   "outputs": [
    {
     "data": {
      "text/plain": [
       "'lahore'"
      ]
     },
     "execution_count": 30,
     "metadata": {},
     "output_type": "execute_result"
    }
   ],
   "source": [
    "response_python_object[\"location\"]"
   ]
  },
  {
   "cell_type": "code",
   "execution_count": 39,
   "metadata": {},
   "outputs": [
    {
     "data": {
      "text/plain": [
       "list"
      ]
     },
     "execution_count": 39,
     "metadata": {},
     "output_type": "execute_result"
    }
   ],
   "source": [
    "response_1.tool_calls\n",
    "\n",
    "type(response_1.tool_calls)"
   ]
  },
  {
   "cell_type": "code",
   "execution_count": 40,
   "metadata": {},
   "outputs": [
    {
     "data": {
      "text/plain": [
       "list"
      ]
     },
     "execution_count": 40,
     "metadata": {},
     "output_type": "execute_result"
    }
   ],
   "source": [
    "list(response_1.tool_calls)\n",
    "type(list(response_1.tool_calls))"
   ]
  },
  {
   "cell_type": "code",
   "execution_count": 26,
   "metadata": {},
   "outputs": [
    {
     "data": {
      "text/plain": [
       "{'arguments': '{\"location\":\"lahore\"}', 'name': 'get_current_weather'}"
      ]
     },
     "metadata": {},
     "output_type": "display_data"
    }
   ],
   "source": [
    "display(dict((response_single_function_call).choices[0].message.tool_calls[0].function))"
   ]
  },
  {
   "cell_type": "markdown",
   "metadata": {},
   "source": [
    "# post-mortem when there is a need to call more than one function \n",
    "# As here we will have  Lahore and karachi both so we need to call two functions  \"What is the weather like in Lahore and karachi  \"\n",
    "# Let's see the response and changes in tool_calls"
   ]
  },
  {
   "cell_type": "code",
   "execution_count": 31,
   "metadata": {},
   "outputs": [],
   "source": [
    "response_multiple_function_call : ChatCompletionMessage =  chat_weather_bot(\"What's the weather like in Lahore and Karachi?\")\n"
   ]
  },
  {
   "cell_type": "code",
   "execution_count": 32,
   "metadata": {},
   "outputs": [
    {
     "data": {
      "text/plain": [
       "{'id': 'chatcmpl-9e4nJK0gFPK9RYgKvc1nJhwb0gWsN',\n",
       " 'choices': [Choice(finish_reason='tool_calls', index=0, logprobs=None, message=ChatCompletionMessage(content=None, role='assistant', function_call=None, tool_calls=[ChatCompletionMessageToolCall(id='call_5Q9kqSJANu6pDE9vP6Ckh1p5', function=Function(arguments='{\"location\": \"lahore\", \"unit\": \"celsius\"}', name='get_current_weather'), type='function'), ChatCompletionMessageToolCall(id='call_T5leeXlrtGd2qKUckRHDkoga', function=Function(arguments='{\"location\": \"karachi\", \"unit\": \"celsius\"}', name='get_current_weather'), type='function')]))],\n",
       " 'created': 1719338577,\n",
       " 'model': 'gpt-3.5-turbo-1106',\n",
       " 'object': 'chat.completion',\n",
       " 'system_fingerprint': 'fp_3d37c73133',\n",
       " 'usage': CompletionUsage(completion_tokens=57, prompt_tokens=85, total_tokens=142)}"
      ]
     },
     "metadata": {},
     "output_type": "display_data"
    }
   ],
   "source": [
    "display(dict(response_multiple_function_call))"
   ]
  },
  {
   "cell_type": "code",
   "execution_count": 44,
   "metadata": {},
   "outputs": [
    {
     "data": {
      "text/plain": [
       "{'finish_reason': 'tool_calls',\n",
       " 'index': 0,\n",
       " 'logprobs': None,\n",
       " 'message': ChatCompletionMessage(content=None, role='assistant', function_call=None, tool_calls=[ChatCompletionMessageToolCall(id='call_aN6QjIxCbhQmZhjyMElH5KxN', function=Function(arguments='{\"location\": \"lahore\", \"unit\": \"celsius\"}', name='get_current_weather'), type='function'), ChatCompletionMessageToolCall(id='call_WqHAQOYfJnDjnUBRu1bWbCj6', function=Function(arguments='{\"location\": \"karachi\", \"unit\": \"celsius\"}', name='get_current_weather'), type='function')])}"
      ]
     },
     "metadata": {},
     "output_type": "display_data"
    }
   ],
   "source": [
    "display(dict(response_multiple_function_call.choices[0]))"
   ]
  },
  {
   "cell_type": "code",
   "execution_count": 45,
   "metadata": {},
   "outputs": [
    {
     "data": {
      "text/plain": [
       "{'content': None,\n",
       " 'role': 'assistant',\n",
       " 'function_call': None,\n",
       " 'tool_calls': [ChatCompletionMessageToolCall(id='call_aN6QjIxCbhQmZhjyMElH5KxN', function=Function(arguments='{\"location\": \"lahore\", \"unit\": \"celsius\"}', name='get_current_weather'), type='function'),\n",
       "  ChatCompletionMessageToolCall(id='call_WqHAQOYfJnDjnUBRu1bWbCj6', function=Function(arguments='{\"location\": \"karachi\", \"unit\": \"celsius\"}', name='get_current_weather'), type='function')]}"
      ]
     },
     "metadata": {},
     "output_type": "display_data"
    }
   ],
   "source": [
    "display(dict(response_multiple_function_call.choices[0].message))"
   ]
  },
  {
   "cell_type": "code",
   "execution_count": 35,
   "metadata": {},
   "outputs": [
    {
     "data": {
      "text/plain": [
       "[ChatCompletionMessageToolCall(id='call_5Q9kqSJANu6pDE9vP6Ckh1p5', function=Function(arguments='{\"location\": \"lahore\", \"unit\": \"celsius\"}', name='get_current_weather'), type='function'),\n",
       " ChatCompletionMessageToolCall(id='call_T5leeXlrtGd2qKUckRHDkoga', function=Function(arguments='{\"location\": \"karachi\", \"unit\": \"celsius\"}', name='get_current_weather'), type='function')]"
      ]
     },
     "metadata": {},
     "output_type": "display_data"
    }
   ],
   "source": [
    "display(list(response_multiple_function_call.choices[0].message.tool_calls))"
   ]
  },
  {
   "cell_type": "markdown",
   "metadata": {},
   "source": [
    "# Now the complete code \n"
   ]
  },
  {
   "cell_type": "code",
   "execution_count": 130,
   "metadata": {},
   "outputs": [],
   "source": [
    "from openai.types.chat.chat_completion import ChatCompletion\n",
    "import json \n",
    "def weather_bot(prompt:str)-> str:\n",
    "    messages = [\n",
    "            {\n",
    "                \"role\":\"user\",\n",
    "                \"content\":prompt\n",
    "            }\n",
    "        ]\n",
    "    tools = [\n",
    "            {\n",
    "            \"type\": \"function\",\n",
    "            \"function\": {\n",
    "                \"name\": \"get_current_weather\",\n",
    "                \"description\": \"Get the current weather in a given location\",\n",
    "                \"parameters\": {\n",
    "                    \"type\": \"object\",\n",
    "                    \"properties\": {\n",
    "                        \"location\": {\n",
    "                            \"type\": \"string\",\n",
    "                            \"description\": \"The city and state, e.g. lahore, karachi\",\n",
    "                        },\n",
    "                        \"unit\": {\"type\": \"string\", \"enum\": [\"celsius\", \"fahrenheit\"]},\n",
    "                    },\n",
    "                    \"required\": [\"location\"],\n",
    "                    },\n",
    "                },\n",
    "            }\n",
    "        ]\n",
    "    response_1: ChatCompletion = client.chat.completions.create(\n",
    "        messages= messages,\n",
    "        model = \"gpt-3.5-turbo-1106\",\n",
    "        tools = tools,\n",
    "        tool_choice =\"auto\" \n",
    "    )\n",
    "    response_1_msg = response_1.choices[0].message\n",
    "    response_1_tool_calls = response_1_msg.tool_calls\n",
    "    print(f\"Response 1 tool calls: {list(response_1_tool_calls)}\")\n",
    "\n",
    "    if response_1_tool_calls:\n",
    "        available_functions = {\n",
    "            \"get_current_weather\" : get_current_weather\n",
    "        }\n",
    "        messages.append(response_1_msg)\n",
    "\n",
    "        for tool_call in response_1_tool_calls:\n",
    "            function_name = str(tool_call.function.name)\n",
    "            function_to_call = available_functions.get(function_name)\n",
    "            function_args = json.loads(tool_call.function.arguments)\n",
    "            function_response = function_to_call(\n",
    "                function_args.get(\"location\"),function_args.get(\"unit\")\n",
    "            )\n",
    "            messages.append(\n",
    "                {\n",
    "                    \"tool_call_id\": tool_call.id , \n",
    "                    \"role\":\"tool\",\n",
    "                    \"name\":function_name,\n",
    "                    \"content\": function_response\n",
    "                }\n",
    "            )\n",
    "    print(f\"messages to get Second response  : {messages}\")\n",
    "    second_response: ChatCompletion = client.chat.completions.create(\n",
    "        messages = messages,\n",
    "        model = \"gpt-3.5-turbo-1106\"\n",
    "    )\n",
    "    display((f\"Second response  : {dict(second_response)}\"))\n",
    "    return second_response.choices[0].message.content\n",
    "\n",
    "\n",
    "\n",
    "        \n",
    "    \n",
    "\n",
    "\n"
   ]
  },
  {
   "cell_type": "code",
   "execution_count": 131,
   "metadata": {},
   "outputs": [
    {
     "name": "stdout",
     "output_type": "stream",
     "text": [
      "Response 1 tool calls: [ChatCompletionMessageToolCall(id='call_7d33vztqcx8iDdaBDcB3VeAd', function=Function(arguments='{\"location\":\"lahore\",\"unit\":\"fahrenheit\"}', name='get_current_weather'), type='function')]\n",
      "messages to get Second response  : [{'role': 'user', 'content': 'What is the weather like in Lahore in fahrenheit '}, ChatCompletionMessage(content=None, role='assistant', function_call=None, tool_calls=[ChatCompletionMessageToolCall(id='call_7d33vztqcx8iDdaBDcB3VeAd', function=Function(arguments='{\"location\":\"lahore\",\"unit\":\"fahrenheit\"}', name='get_current_weather'), type='function')]), {'tool_call_id': 'call_7d33vztqcx8iDdaBDcB3VeAd', 'role': 'tool', 'name': 'get_current_weather', 'content': '{\"location\": \"Lahore\", \"temperature\": \"22\", \"unit\": \"celsius\"}'}]\n"
     ]
    },
    {
     "data": {
      "text/plain": [
       "\"Second response  : {'id': 'chatcmpl-9YtanQrJMNpApCxa9b5I8kyjoMOv5', 'choices': [Choice(finish_reason='stop', index=0, logprobs=None, message=ChatCompletionMessage(content='The current temperature in Lahore is 22 degrees Celsius, which is approximately 71.6 degrees Fahrenheit.', role='assistant', function_call=None, tool_calls=None))], 'created': 1718103877, 'model': 'gpt-3.5-turbo-1106', 'object': 'chat.completion', 'system_fingerprint': 'fp_482d920018', 'usage': CompletionUsage(completion_tokens=21, prompt_tokens=69, total_tokens=90)}\""
      ]
     },
     "metadata": {},
     "output_type": "display_data"
    },
    {
     "data": {
      "text/plain": [
       "'The current temperature in Lahore is 22 degrees Celsius, which is approximately 71.6 degrees Fahrenheit.'"
      ]
     },
     "execution_count": 131,
     "metadata": {},
     "output_type": "execute_result"
    }
   ],
   "source": [
    "weather_bot(\"What is the weather like in Lahore in fahrenheit \")"
   ]
  },
  {
   "cell_type": "code",
   "execution_count": 132,
   "metadata": {},
   "outputs": [
    {
     "name": "stdout",
     "output_type": "stream",
     "text": [
      "Response 1 tool calls: [ChatCompletionMessageToolCall(id='call_8GwMfkMVCXPIWHi1aHq6G0yC', function=Function(arguments='{\"location\": \"lahore\", \"unit\": \"fahrenheit\"}', name='get_current_weather'), type='function'), ChatCompletionMessageToolCall(id='call_zU776p0rvHfSxRCH58nr8fyj', function=Function(arguments='{\"location\": \"karachi\", \"unit\": \"fahrenheit\"}', name='get_current_weather'), type='function')]\n",
      "messages to get Second response  : [{'role': 'user', 'content': 'What is the weather like in Lahore and karachi in fahrenheit '}, ChatCompletionMessage(content=None, role='assistant', function_call=None, tool_calls=[ChatCompletionMessageToolCall(id='call_8GwMfkMVCXPIWHi1aHq6G0yC', function=Function(arguments='{\"location\": \"lahore\", \"unit\": \"fahrenheit\"}', name='get_current_weather'), type='function'), ChatCompletionMessageToolCall(id='call_zU776p0rvHfSxRCH58nr8fyj', function=Function(arguments='{\"location\": \"karachi\", \"unit\": \"fahrenheit\"}', name='get_current_weather'), type='function')]), {'tool_call_id': 'call_8GwMfkMVCXPIWHi1aHq6G0yC', 'role': 'tool', 'name': 'get_current_weather', 'content': '{\"location\": \"Lahore\", \"temperature\": \"22\", \"unit\": \"celsius\"}'}, {'tool_call_id': 'call_zU776p0rvHfSxRCH58nr8fyj', 'role': 'tool', 'name': 'get_current_weather', 'content': '{\"location\": \"Karachi\", \"temperature\": \"10\", \"unit\": \"celsius\"}'}]\n"
     ]
    },
    {
     "data": {
      "text/plain": [
       "\"Second response  : {'id': 'chatcmpl-9Ytaueggr4D5yT83hudO9hmqY9Unh', 'choices': [Choice(finish_reason='stop', index=0, logprobs=None, message=ChatCompletionMessage(content='The current weather in Lahore is 22 degrees Celsius, which is approximately 71.6 degrees Fahrenheit. In Karachi, the current temperature is 10 degrees Celsius, which is approximately 50 degrees Fahrenheit.', role='assistant', function_call=None, tool_calls=None))], 'created': 1718103884, 'model': 'gpt-3.5-turbo-1106', 'object': 'chat.completion', 'system_fingerprint': 'fp_482d920018', 'usage': CompletionUsage(completion_tokens=41, prompt_tokens=131, total_tokens=172)}\""
      ]
     },
     "metadata": {},
     "output_type": "display_data"
    },
    {
     "data": {
      "text/plain": [
       "'The current weather in Lahore is 22 degrees Celsius, which is approximately 71.6 degrees Fahrenheit. In Karachi, the current temperature is 10 degrees Celsius, which is approximately 50 degrees Fahrenheit.'"
      ]
     },
     "execution_count": 132,
     "metadata": {},
     "output_type": "execute_result"
    }
   ],
   "source": [
    "weather_bot(\"What is the weather like in Lahore and karachi in fahrenheit \")"
   ]
  },
  {
   "cell_type": "code",
   "execution_count": 135,
   "metadata": {},
   "outputs": [
    {
     "name": "stdout",
     "output_type": "stream",
     "text": [
      "Response 1 tool calls: [ChatCompletionMessageToolCall(id='call_iDjSEbYMrDZDmPDaEExJiy2U', function=Function(arguments='{\"location\": \"lahore\", \"unit\": \"fahrenheit\"}', name='get_current_weather'), type='function'), ChatCompletionMessageToolCall(id='call_WHcRBHRL6dhaKD2yURGO1O1o', function=Function(arguments='{\"location\": \"islamabad\", \"unit\": \"fahrenheit\"}', name='get_current_weather'), type='function')]\n",
      "messages to get Second response  : [{'role': 'user', 'content': 'What is the weather like in Lahore and islamabad. Give the resuts in Fahrenheit '}, ChatCompletionMessage(content=None, role='assistant', function_call=None, tool_calls=[ChatCompletionMessageToolCall(id='call_iDjSEbYMrDZDmPDaEExJiy2U', function=Function(arguments='{\"location\": \"lahore\", \"unit\": \"fahrenheit\"}', name='get_current_weather'), type='function'), ChatCompletionMessageToolCall(id='call_WHcRBHRL6dhaKD2yURGO1O1o', function=Function(arguments='{\"location\": \"islamabad\", \"unit\": \"fahrenheit\"}', name='get_current_weather'), type='function')]), {'tool_call_id': 'call_iDjSEbYMrDZDmPDaEExJiy2U', 'role': 'tool', 'name': 'get_current_weather', 'content': '{\"location\": \"Lahore\", \"temperature\": \"22\", \"unit\": \"celsius\"}'}, {'tool_call_id': 'call_WHcRBHRL6dhaKD2yURGO1O1o', 'role': 'tool', 'name': 'get_current_weather', 'content': '{\"location\": \"Islamabad\", \"temperature\": \"72\", \"unit\": \"fahrenheit\"}'}]\n"
     ]
    },
    {
     "data": {
      "text/plain": [
       "\"Second response  : {'id': 'chatcmpl-9Ytgg4WL8OrFVWd2vieQBBeJwIkYH', 'choices': [Choice(finish_reason='stop', index=0, logprobs=None, message=ChatCompletionMessage(content='The current temperature in Lahore is 22 degrees Celsius, which is approximately 71.6 degrees Fahrenheit. The current temperature in Islamabad is 72 degrees Fahrenheit.', role='assistant', function_call=None, tool_calls=None))], 'created': 1718104242, 'model': 'gpt-3.5-turbo-1106', 'object': 'chat.completion', 'system_fingerprint': 'fp_482d920018', 'usage': CompletionUsage(completion_tokens=32, prompt_tokens=137, total_tokens=169)}\""
      ]
     },
     "metadata": {},
     "output_type": "display_data"
    },
    {
     "data": {
      "text/plain": [
       "'The current temperature in Lahore is 22 degrees Celsius, which is approximately 71.6 degrees Fahrenheit. The current temperature in Islamabad is 72 degrees Fahrenheit.'"
      ]
     },
     "execution_count": 135,
     "metadata": {},
     "output_type": "execute_result"
    }
   ],
   "source": [
    "weather_bot(\"What is the weather like in Lahore and islamabad. Give the resuts in Fahrenheit \")"
   ]
  },
  {
   "cell_type": "code",
   "execution_count": 147,
   "metadata": {},
   "outputs": [
    {
     "data": {
      "text/plain": [
       "['wasam', {'name': 'Wasam'}, ['wasam']]"
      ]
     },
     "metadata": {},
     "output_type": "display_data"
    }
   ],
   "source": [
    "wasam  =  [\"wasam\",{\"name\":\"Wasam\"},[\"wasam\"]]\n",
    "display(wasam)"
   ]
  },
  {
   "cell_type": "code",
   "execution_count": 150,
   "metadata": {},
   "outputs": [
    {
     "ename": "ValueError",
     "evalue": "dictionary update sequence element #0 has length 5; 2 is required",
     "output_type": "error",
     "traceback": [
      "\u001b[0;31m---------------------------------------------------------------------------\u001b[0m",
      "\u001b[0;31mValueError\u001b[0m                                Traceback (most recent call last)",
      "Cell \u001b[0;32mIn[150], line 2\u001b[0m\n\u001b[1;32m      1\u001b[0m wasam  \u001b[38;5;241m=\u001b[39m  [\u001b[38;5;124m\"\u001b[39m\u001b[38;5;124mwasam\u001b[39m\u001b[38;5;124m\"\u001b[39m,{\u001b[38;5;124m\"\u001b[39m\u001b[38;5;124mname\u001b[39m\u001b[38;5;124m\"\u001b[39m:\u001b[38;5;124m\"\u001b[39m\u001b[38;5;124mWasam\u001b[39m\u001b[38;5;124m\"\u001b[39m},[\u001b[38;5;124m\"\u001b[39m\u001b[38;5;124mwasam\u001b[39m\u001b[38;5;124m\"\u001b[39m]]\n\u001b[0;32m----> 2\u001b[0m display(\u001b[38;5;28;43mdict\u001b[39;49m\u001b[43m(\u001b[49m\u001b[43mwasam\u001b[49m\u001b[43m)\u001b[49m)\n",
      "\u001b[0;31mValueError\u001b[0m: dictionary update sequence element #0 has length 5; 2 is required"
     ]
    }
   ],
   "source": [
    "wasam  =  [\"wasam\",{\"name\":\"Wasam\"},[\"wasam\"]]\n",
    "display(dict(wasam))"
   ]
  },
  {
   "cell_type": "code",
   "execution_count": 152,
   "metadata": {},
   "outputs": [
    {
     "data": {
      "text/plain": [
       "{'name': 'Wasam'}"
      ]
     },
     "metadata": {},
     "output_type": "display_data"
    }
   ],
   "source": [
    "wasam  =  [\"wasam\",{\"name\":\"Wasam\"},[\"wasam\"]]\n",
    "display(dict(wasam[1]))"
   ]
  },
  {
   "cell_type": "code",
   "execution_count": 151,
   "metadata": {},
   "outputs": [
    {
     "data": {
      "text/plain": [
       "['wasam', {'name': 'Wasam'}, ['wasam']]"
      ]
     },
     "metadata": {},
     "output_type": "display_data"
    }
   ],
   "source": [
    "wasam  =  [\"wasam\",{\"name\":\"Wasam\"},[\"wasam\"]]\n",
    "display(list(wasam))"
   ]
  },
  {
   "cell_type": "code",
   "execution_count": 153,
   "metadata": {},
   "outputs": [
    {
     "data": {
      "text/plain": [
       "{'name': 'Wasam'}"
      ]
     },
     "metadata": {},
     "output_type": "display_data"
    }
   ],
   "source": [
    "wasam  =  [\"wasam\",{\"name\":\"Wasam\"},[\"wasam\"]]\n",
    "display(wasam[1])"
   ]
  },
  {
   "cell_type": "code",
   "execution_count": 47,
   "metadata": {},
   "outputs": [
    {
     "name": "stdout",
     "output_type": "stream",
     "text": [
      "5bac1dfa-9773-4e23-bb34-4f618c52a2ac\n"
     ]
    }
   ],
   "source": [
    "import uuid \n",
    "from uuid import UUID\n",
    "\n",
    "print((uuid.uuid4()))\n"
   ]
  },
  {
   "cell_type": "code",
   "execution_count": 48,
   "metadata": {},
   "outputs": [
    {
     "name": "stdout",
     "output_type": "stream",
     "text": [
      "0\n",
      "0.0\n"
     ]
    }
   ],
   "source": [
    "price = 00\n",
    "print(price)\n",
    "print(float(price))"
   ]
  },
  {
   "cell_type": "code",
   "execution_count": 54,
   "metadata": {},
   "outputs": [
    {
     "data": {
      "text/plain": [
       "False"
      ]
     },
     "execution_count": 54,
     "metadata": {},
     "output_type": "execute_result"
    }
   ],
   "source": [
    "bool(00.0)"
   ]
  },
  {
   "cell_type": "code",
   "execution_count": 55,
   "metadata": {},
   "outputs": [
    {
     "data": {
      "text/plain": [
       "False"
      ]
     },
     "execution_count": 55,
     "metadata": {},
     "output_type": "execute_result"
    }
   ],
   "source": [
    "bool({ })"
   ]
  },
  {
   "cell_type": "code",
   "execution_count": 56,
   "metadata": {},
   "outputs": [
    {
     "data": {
      "text/plain": [
       "False"
      ]
     },
     "execution_count": 56,
     "metadata": {},
     "output_type": "execute_result"
    }
   ],
   "source": [
    "bool([ ])"
   ]
  }
 ],
 "metadata": {
  "kernelspec": {
   "display_name": "base",
   "language": "python",
   "name": "python3"
  },
  "language_info": {
   "codemirror_mode": {
    "name": "ipython",
    "version": 3
   },
   "file_extension": ".py",
   "mimetype": "text/x-python",
   "name": "python",
   "nbconvert_exporter": "python",
   "pygments_lexer": "ipython3",
   "version": "3.11.6"
  }
 },
 "nbformat": 4,
 "nbformat_minor": 2
}
