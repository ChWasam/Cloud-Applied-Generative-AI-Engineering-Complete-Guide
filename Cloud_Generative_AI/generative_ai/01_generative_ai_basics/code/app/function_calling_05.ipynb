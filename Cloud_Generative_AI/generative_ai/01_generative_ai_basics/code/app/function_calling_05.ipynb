{
 "cells": [
  {
   "cell_type": "code",
   "execution_count": 129,
   "metadata": {},
   "outputs": [
    {
     "data": {
      "text/plain": [
       "'{\"location\": \"Karachi\", \"temperature\": \"10\", \"unit\": \"celsius\"}'"
      ]
     },
     "metadata": {},
     "output_type": "display_data"
    },
    {
     "data": {
      "text/plain": [
       "'{\"location\": \"Lahore\", \"temperature\": \"22\", \"unit\": \"celsius\"}'"
      ]
     },
     "metadata": {},
     "output_type": "display_data"
    }
   ],
   "source": [
    "# Example dummy function hard coded to return the same weather\n",
    "# In production, this could be your backend API or an external API\n",
    "import json\n",
    "def get_current_weather(location:str, unit:str=\"fahrenheit\")->str:\n",
    "    \"\"\"Get the current weather in a given location\"\"\"\n",
    "    if \"karachi\" in location.lower():\n",
    "        return json.dumps({\"location\": \"Karachi\", \"temperature\": \"10\", \"unit\": \"celsius\"})\n",
    "        return ({\"location\": \"Karachi\", \"temperature\": \"10\", \"unit\": \"celsius\"})\n",
    "\n",
    "    elif \"islamabad\" in location.lower():\n",
    "        return json.dumps({\"location\": \"Islamabad\", \"temperature\": \"72\", \"unit\": \"fahrenheit\"})\n",
    "    elif \"lahore\" in location.lower():\n",
    "        return json.dumps({\"location\": \"Lahore\", \"temperature\": \"22\", \"unit\": \"celsius\"})\n",
    "    else:\n",
    "        return json.dumps({\"location\": location, \"temperature\": \"unknown\"})\n",
    "\n",
    "\n",
    "display(get_current_weather(\"karachi\"))\n",
    "display(get_current_weather(\"lahore\"))\n"
   ]
  },
  {
   "cell_type": "code",
   "execution_count": 109,
   "metadata": {},
   "outputs": [],
   "source": [
    "from openai import OpenAI\n",
    "from dotenv import load_dotenv, find_dotenv\n",
    "import os\n",
    "\n",
    "_:bool = load_dotenv(find_dotenv())\n",
    "\n",
    "client: OpenAI = OpenAI()"
   ]
  },
  {
   "cell_type": "code",
   "execution_count": 80,
   "metadata": {},
   "outputs": [],
   "source": [
    "from openai.types.chat.chat_completion import ChatCompletion,ChatCompletionMessage\n",
    "\n",
    "def weather_bot(prompt:str)-> ChatCompletion:\n",
    "    response: ChatCompletion = client.chat.completions.create(\n",
    "        messages= [\n",
    "            {\n",
    "                \"role\":\"user\",\n",
    "                \"content\":prompt\n",
    "            }\n",
    "\n",
    "        ],\n",
    "        model = \"gpt-3.5-turbo-1106\",\n",
    "        tools = [\n",
    "            {\n",
    "            \"type\": \"function\",\n",
    "            \"function\": {\n",
    "                \"name\": \"get_current_weather\",\n",
    "                \"description\": \"Get the current weather in a given location\",\n",
    "                \"parameters\": {\n",
    "                    \"type\": \"object\",\n",
    "                    \"properties\": {\n",
    "                        \"location\": {\n",
    "                            \"type\": \"string\",\n",
    "                            \"description\": \"The city and state, e.g. lahore, karachi\",\n",
    "                        },\n",
    "                        \"unit\": {\"type\": \"string\", \"enum\": [\"celsius\", \"fahrenheit\"]},\n",
    "                    },\n",
    "                    \"required\": [\"location\"],\n",
    "                    },\n",
    "                },\n",
    "            }\n",
    "\n",
    "        ],\n",
    "        tool_choice =\"auto\" \n",
    "    )\n",
    "    return response\n",
    "\n"
   ]
  },
  {
   "cell_type": "markdown",
   "metadata": {},
   "source": [
    "# post-mortem when there is a need to call one function \n",
    "# As here we will only have Lahore \"What is the weather like in Lahore \""
   ]
  },
  {
   "cell_type": "code",
   "execution_count": 48,
   "metadata": {},
   "outputs": [],
   "source": [
    "response_single_function_call : ChatCompletionMessage =  weather_bot(\"What is the weather like in Lahore \")"
   ]
  },
  {
   "cell_type": "code",
   "execution_count": 49,
   "metadata": {},
   "outputs": [
    {
     "data": {
      "text/plain": [
       "{'finish_reason': 'tool_calls',\n",
       " 'index': 0,\n",
       " 'logprobs': None,\n",
       " 'message': ChatCompletionMessage(content=None, role='assistant', function_call=None, tool_calls=[ChatCompletionMessageToolCall(id='call_HnZJcH0Qpg5PLAhuzutTiXKr', function=Function(arguments='{\"location\":\"lahore\"}', name='get_current_weather'), type='function')])}"
      ]
     },
     "metadata": {},
     "output_type": "display_data"
    }
   ],
   "source": [
    "display(dict((response_single_function_call).choices[0]))"
   ]
  },
  {
   "cell_type": "code",
   "execution_count": 50,
   "metadata": {},
   "outputs": [
    {
     "data": {
      "text/plain": [
       "{'content': None,\n",
       " 'role': 'assistant',\n",
       " 'function_call': None,\n",
       " 'tool_calls': [ChatCompletionMessageToolCall(id='call_HnZJcH0Qpg5PLAhuzutTiXKr', function=Function(arguments='{\"location\":\"lahore\"}', name='get_current_weather'), type='function')]}"
      ]
     },
     "metadata": {},
     "output_type": "display_data"
    }
   ],
   "source": [
    "display(dict((response_single_function_call).choices[0].message))"
   ]
  },
  {
   "cell_type": "code",
   "execution_count": 51,
   "metadata": {},
   "outputs": [
    {
     "data": {
      "text/plain": [
       "{'id': 'call_HnZJcH0Qpg5PLAhuzutTiXKr',\n",
       " 'function': Function(arguments='{\"location\":\"lahore\"}', name='get_current_weather'),\n",
       " 'type': 'function'}"
      ]
     },
     "metadata": {},
     "output_type": "display_data"
    }
   ],
   "source": [
    "display(dict((response_single_function_call).choices[0].message.tool_calls[0]))"
   ]
  },
  {
   "cell_type": "code",
   "execution_count": 52,
   "metadata": {},
   "outputs": [
    {
     "data": {
      "text/plain": [
       "Function(arguments='{\"location\":\"lahore\"}', name='get_current_weather')"
      ]
     },
     "execution_count": 52,
     "metadata": {},
     "output_type": "execute_result"
    }
   ],
   "source": [
    "response_1 = (response_single_function_call).choices[0].message\n",
    "\n",
    "response_1.tool_calls[0].function\n"
   ]
  },
  {
   "cell_type": "code",
   "execution_count": 53,
   "metadata": {},
   "outputs": [
    {
     "data": {
      "text/plain": [
       "'{\"location\":\"lahore\"}'"
      ]
     },
     "execution_count": 53,
     "metadata": {},
     "output_type": "execute_result"
    }
   ],
   "source": [
    "response_1.tool_calls[0].function.arguments\n"
   ]
  },
  {
   "cell_type": "code",
   "execution_count": 68,
   "metadata": {},
   "outputs": [
    {
     "name": "stdout",
     "output_type": "stream",
     "text": [
      "{'location': 'lahore'}\n"
     ]
    }
   ],
   "source": [
    "import json\n",
    "\n",
    "#  json to python object conversion\n",
    "response_python_object = json.loads(response_1.tool_calls[0].function.arguments)\n",
    "print(response_python_object)\n"
   ]
  },
  {
   "cell_type": "code",
   "execution_count": 69,
   "metadata": {},
   "outputs": [
    {
     "data": {
      "text/plain": [
       "'lahore'"
      ]
     },
     "execution_count": 69,
     "metadata": {},
     "output_type": "execute_result"
    }
   ],
   "source": [
    "response_python_object[\"location\"]"
   ]
  },
  {
   "cell_type": "code",
   "execution_count": 39,
   "metadata": {},
   "outputs": [
    {
     "data": {
      "text/plain": [
       "list"
      ]
     },
     "execution_count": 39,
     "metadata": {},
     "output_type": "execute_result"
    }
   ],
   "source": [
    "response_1.tool_calls\n",
    "\n",
    "type(response_1.tool_calls)"
   ]
  },
  {
   "cell_type": "code",
   "execution_count": 40,
   "metadata": {},
   "outputs": [
    {
     "data": {
      "text/plain": [
       "list"
      ]
     },
     "execution_count": 40,
     "metadata": {},
     "output_type": "execute_result"
    }
   ],
   "source": [
    "list(response_1.tool_calls)\n",
    "type(list(response_1.tool_calls))"
   ]
  },
  {
   "cell_type": "code",
   "execution_count": 26,
   "metadata": {},
   "outputs": [
    {
     "data": {
      "text/plain": [
       "{'arguments': '{\"location\":\"lahore\"}', 'name': 'get_current_weather'}"
      ]
     },
     "metadata": {},
     "output_type": "display_data"
    }
   ],
   "source": [
    "display(dict((response_single_function_call).choices[0].message.tool_calls[0].function))"
   ]
  },
  {
   "cell_type": "markdown",
   "metadata": {},
   "source": [
    "# post-mortem when there is a need to call more than one function \n",
    "# As here we will have  Lahore and karachi both so we need to call two functions  \"What is the weather like in Lahore and karachi  \"\n",
    "# Let's see the response and changes in tool_calls"
   ]
  },
  {
   "cell_type": "code",
   "execution_count": 41,
   "metadata": {},
   "outputs": [],
   "source": [
    "response_multiple_function_call : ChatCompletionMessage =  weather_bot(\"What's the weather like in Lahore and Karachi?\")\n"
   ]
  },
  {
   "cell_type": "code",
   "execution_count": 42,
   "metadata": {},
   "outputs": [
    {
     "data": {
      "text/plain": [
       "{'id': 'chatcmpl-9YqVpVIQtRg0rm87tyPGMzMxRBhSl',\n",
       " 'choices': [Choice(finish_reason='tool_calls', index=0, logprobs=None, message=ChatCompletionMessage(content=None, role='assistant', function_call=None, tool_calls=[ChatCompletionMessageToolCall(id='call_aN6QjIxCbhQmZhjyMElH5KxN', function=Function(arguments='{\"location\": \"lahore\", \"unit\": \"celsius\"}', name='get_current_weather'), type='function'), ChatCompletionMessageToolCall(id='call_WqHAQOYfJnDjnUBRu1bWbCj6', function=Function(arguments='{\"location\": \"karachi\", \"unit\": \"celsius\"}', name='get_current_weather'), type='function')]))],\n",
       " 'created': 1718092037,\n",
       " 'model': 'gpt-3.5-turbo-1106',\n",
       " 'object': 'chat.completion',\n",
       " 'system_fingerprint': 'fp_482d920018',\n",
       " 'usage': CompletionUsage(completion_tokens=57, prompt_tokens=85, total_tokens=142)}"
      ]
     },
     "metadata": {},
     "output_type": "display_data"
    }
   ],
   "source": [
    "display(dict(response_multiple_function_call))"
   ]
  },
  {
   "cell_type": "code",
   "execution_count": 44,
   "metadata": {},
   "outputs": [
    {
     "data": {
      "text/plain": [
       "{'finish_reason': 'tool_calls',\n",
       " 'index': 0,\n",
       " 'logprobs': None,\n",
       " 'message': ChatCompletionMessage(content=None, role='assistant', function_call=None, tool_calls=[ChatCompletionMessageToolCall(id='call_aN6QjIxCbhQmZhjyMElH5KxN', function=Function(arguments='{\"location\": \"lahore\", \"unit\": \"celsius\"}', name='get_current_weather'), type='function'), ChatCompletionMessageToolCall(id='call_WqHAQOYfJnDjnUBRu1bWbCj6', function=Function(arguments='{\"location\": \"karachi\", \"unit\": \"celsius\"}', name='get_current_weather'), type='function')])}"
      ]
     },
     "metadata": {},
     "output_type": "display_data"
    }
   ],
   "source": [
    "display(dict(response_multiple_function_call.choices[0]))"
   ]
  },
  {
   "cell_type": "code",
   "execution_count": 45,
   "metadata": {},
   "outputs": [
    {
     "data": {
      "text/plain": [
       "{'content': None,\n",
       " 'role': 'assistant',\n",
       " 'function_call': None,\n",
       " 'tool_calls': [ChatCompletionMessageToolCall(id='call_aN6QjIxCbhQmZhjyMElH5KxN', function=Function(arguments='{\"location\": \"lahore\", \"unit\": \"celsius\"}', name='get_current_weather'), type='function'),\n",
       "  ChatCompletionMessageToolCall(id='call_WqHAQOYfJnDjnUBRu1bWbCj6', function=Function(arguments='{\"location\": \"karachi\", \"unit\": \"celsius\"}', name='get_current_weather'), type='function')]}"
      ]
     },
     "metadata": {},
     "output_type": "display_data"
    }
   ],
   "source": [
    "display(dict(response_multiple_function_call.choices[0].message))"
   ]
  },
  {
   "cell_type": "code",
   "execution_count": 46,
   "metadata": {},
   "outputs": [
    {
     "data": {
      "text/plain": [
       "[ChatCompletionMessageToolCall(id='call_aN6QjIxCbhQmZhjyMElH5KxN', function=Function(arguments='{\"location\": \"lahore\", \"unit\": \"celsius\"}', name='get_current_weather'), type='function'),\n",
       " ChatCompletionMessageToolCall(id='call_WqHAQOYfJnDjnUBRu1bWbCj6', function=Function(arguments='{\"location\": \"karachi\", \"unit\": \"celsius\"}', name='get_current_weather'), type='function')]"
      ]
     },
     "metadata": {},
     "output_type": "display_data"
    }
   ],
   "source": [
    "display(list(response_multiple_function_call.choices[0].message.tool_calls))"
   ]
  },
  {
   "cell_type": "markdown",
   "metadata": {},
   "source": [
    "# Now the complete code \n"
   ]
  },
  {
   "cell_type": "code",
   "execution_count": 130,
   "metadata": {},
   "outputs": [],
   "source": [
    "from openai.types.chat.chat_completion import ChatCompletion,ChatCompletionMessage\n",
    "import json \n",
    "def weather_bot(prompt:str)-> str:\n",
    "    messages = [\n",
    "            {\n",
    "                \"role\":\"user\",\n",
    "                \"content\":prompt\n",
    "            }\n",
    "        ]\n",
    "    tools = [\n",
    "            {\n",
    "            \"type\": \"function\",\n",
    "            \"function\": {\n",
    "                \"name\": \"get_current_weather\",\n",
    "                \"description\": \"Get the current weather in a given location\",\n",
    "                \"parameters\": {\n",
    "                    \"type\": \"object\",\n",
    "                    \"properties\": {\n",
    "                        \"location\": {\n",
    "                            \"type\": \"string\",\n",
    "                            \"description\": \"The city and state, e.g. lahore, karachi\",\n",
    "                        },\n",
    "                        \"unit\": {\"type\": \"string\", \"enum\": [\"celsius\", \"fahrenheit\"]},\n",
    "                    },\n",
    "                    \"required\": [\"location\"],\n",
    "                    },\n",
    "                },\n",
    "            }\n",
    "        ]\n",
    "    response_1: ChatCompletion = client.chat.completions.create(\n",
    "        messages= messages,\n",
    "        model = \"gpt-3.5-turbo-1106\",\n",
    "        tools = tools,\n",
    "        tool_choice =\"auto\" \n",
    "    )\n",
    "    response_1_msg = response_1.choices[0].message\n",
    "    response_1_tool_calls = response_1_msg.tool_calls\n",
    "    print(f\"Response 1 tool calls: {list(response_1_tool_calls)}\")\n",
    "\n",
    "    if response_1_tool_calls:\n",
    "        available_functions = {\n",
    "            \"get_current_weather\" : get_current_weather\n",
    "        }\n",
    "        messages.append(response_1_msg)\n",
    "\n",
    "        for tool_call in response_1_tool_calls:\n",
    "            function_name = str(tool_call.function.name)\n",
    "            function_to_call = available_functions.get(function_name)\n",
    "            function_args = json.loads(tool_call.function.arguments)\n",
    "            function_response = function_to_call(\n",
    "                function_args.get(\"location\"),function_args.get(\"unit\")\n",
    "            )\n",
    "            messages.append(\n",
    "                {\n",
    "                    \"tool_call_id\": tool_call.id , \n",
    "                    \"role\":\"tool\",\n",
    "                    \"name\":function_name,\n",
    "                    \"content\": function_response\n",
    "\n",
    "                }\n",
    "            )\n",
    "    print(f\"messages to get Second response  : {messages}\")\n",
    "    second_response: ChatCompletion = client.chat.completions.create(\n",
    "        messages = messages,\n",
    "        model = \"gpt-3.5-turbo-1106\"\n",
    "    )\n",
    "    display((f\"Second response  : {dict(second_response)}\"))\n",
    "    return second_response.choices[0].message.content\n",
    "\n",
    "\n",
    "\n",
    "        \n",
    "    \n",
    "\n",
    "\n"
   ]
  },
  {
   "cell_type": "code",
   "execution_count": 131,
   "metadata": {},
   "outputs": [
    {
     "name": "stdout",
     "output_type": "stream",
     "text": [
      "Response 1 tool calls: [ChatCompletionMessageToolCall(id='call_7d33vztqcx8iDdaBDcB3VeAd', function=Function(arguments='{\"location\":\"lahore\",\"unit\":\"fahrenheit\"}', name='get_current_weather'), type='function')]\n",
      "messages to get Second response  : [{'role': 'user', 'content': 'What is the weather like in Lahore in fahrenheit '}, ChatCompletionMessage(content=None, role='assistant', function_call=None, tool_calls=[ChatCompletionMessageToolCall(id='call_7d33vztqcx8iDdaBDcB3VeAd', function=Function(arguments='{\"location\":\"lahore\",\"unit\":\"fahrenheit\"}', name='get_current_weather'), type='function')]), {'tool_call_id': 'call_7d33vztqcx8iDdaBDcB3VeAd', 'role': 'tool', 'name': 'get_current_weather', 'content': '{\"location\": \"Lahore\", \"temperature\": \"22\", \"unit\": \"celsius\"}'}]\n"
     ]
    },
    {
     "data": {
      "text/plain": [
       "\"Second response  : {'id': 'chatcmpl-9YtanQrJMNpApCxa9b5I8kyjoMOv5', 'choices': [Choice(finish_reason='stop', index=0, logprobs=None, message=ChatCompletionMessage(content='The current temperature in Lahore is 22 degrees Celsius, which is approximately 71.6 degrees Fahrenheit.', role='assistant', function_call=None, tool_calls=None))], 'created': 1718103877, 'model': 'gpt-3.5-turbo-1106', 'object': 'chat.completion', 'system_fingerprint': 'fp_482d920018', 'usage': CompletionUsage(completion_tokens=21, prompt_tokens=69, total_tokens=90)}\""
      ]
     },
     "metadata": {},
     "output_type": "display_data"
    },
    {
     "data": {
      "text/plain": [
       "'The current temperature in Lahore is 22 degrees Celsius, which is approximately 71.6 degrees Fahrenheit.'"
      ]
     },
     "execution_count": 131,
     "metadata": {},
     "output_type": "execute_result"
    }
   ],
   "source": [
    "weather_bot(\"What is the weather like in Lahore in fahrenheit \")"
   ]
  },
  {
   "cell_type": "code",
   "execution_count": 132,
   "metadata": {},
   "outputs": [
    {
     "name": "stdout",
     "output_type": "stream",
     "text": [
      "Response 1 tool calls: [ChatCompletionMessageToolCall(id='call_8GwMfkMVCXPIWHi1aHq6G0yC', function=Function(arguments='{\"location\": \"lahore\", \"unit\": \"fahrenheit\"}', name='get_current_weather'), type='function'), ChatCompletionMessageToolCall(id='call_zU776p0rvHfSxRCH58nr8fyj', function=Function(arguments='{\"location\": \"karachi\", \"unit\": \"fahrenheit\"}', name='get_current_weather'), type='function')]\n",
      "messages to get Second response  : [{'role': 'user', 'content': 'What is the weather like in Lahore and karachi in fahrenheit '}, ChatCompletionMessage(content=None, role='assistant', function_call=None, tool_calls=[ChatCompletionMessageToolCall(id='call_8GwMfkMVCXPIWHi1aHq6G0yC', function=Function(arguments='{\"location\": \"lahore\", \"unit\": \"fahrenheit\"}', name='get_current_weather'), type='function'), ChatCompletionMessageToolCall(id='call_zU776p0rvHfSxRCH58nr8fyj', function=Function(arguments='{\"location\": \"karachi\", \"unit\": \"fahrenheit\"}', name='get_current_weather'), type='function')]), {'tool_call_id': 'call_8GwMfkMVCXPIWHi1aHq6G0yC', 'role': 'tool', 'name': 'get_current_weather', 'content': '{\"location\": \"Lahore\", \"temperature\": \"22\", \"unit\": \"celsius\"}'}, {'tool_call_id': 'call_zU776p0rvHfSxRCH58nr8fyj', 'role': 'tool', 'name': 'get_current_weather', 'content': '{\"location\": \"Karachi\", \"temperature\": \"10\", \"unit\": \"celsius\"}'}]\n"
     ]
    },
    {
     "data": {
      "text/plain": [
       "\"Second response  : {'id': 'chatcmpl-9Ytaueggr4D5yT83hudO9hmqY9Unh', 'choices': [Choice(finish_reason='stop', index=0, logprobs=None, message=ChatCompletionMessage(content='The current weather in Lahore is 22 degrees Celsius, which is approximately 71.6 degrees Fahrenheit. In Karachi, the current temperature is 10 degrees Celsius, which is approximately 50 degrees Fahrenheit.', role='assistant', function_call=None, tool_calls=None))], 'created': 1718103884, 'model': 'gpt-3.5-turbo-1106', 'object': 'chat.completion', 'system_fingerprint': 'fp_482d920018', 'usage': CompletionUsage(completion_tokens=41, prompt_tokens=131, total_tokens=172)}\""
      ]
     },
     "metadata": {},
     "output_type": "display_data"
    },
    {
     "data": {
      "text/plain": [
       "'The current weather in Lahore is 22 degrees Celsius, which is approximately 71.6 degrees Fahrenheit. In Karachi, the current temperature is 10 degrees Celsius, which is approximately 50 degrees Fahrenheit.'"
      ]
     },
     "execution_count": 132,
     "metadata": {},
     "output_type": "execute_result"
    }
   ],
   "source": [
    "weather_bot(\"What is the weather like in Lahore and karachi in fahrenheit \")"
   ]
  },
  {
   "cell_type": "code",
   "execution_count": 135,
   "metadata": {},
   "outputs": [
    {
     "name": "stdout",
     "output_type": "stream",
     "text": [
      "Response 1 tool calls: [ChatCompletionMessageToolCall(id='call_iDjSEbYMrDZDmPDaEExJiy2U', function=Function(arguments='{\"location\": \"lahore\", \"unit\": \"fahrenheit\"}', name='get_current_weather'), type='function'), ChatCompletionMessageToolCall(id='call_WHcRBHRL6dhaKD2yURGO1O1o', function=Function(arguments='{\"location\": \"islamabad\", \"unit\": \"fahrenheit\"}', name='get_current_weather'), type='function')]\n",
      "messages to get Second response  : [{'role': 'user', 'content': 'What is the weather like in Lahore and islamabad. Give the resuts in Fahrenheit '}, ChatCompletionMessage(content=None, role='assistant', function_call=None, tool_calls=[ChatCompletionMessageToolCall(id='call_iDjSEbYMrDZDmPDaEExJiy2U', function=Function(arguments='{\"location\": \"lahore\", \"unit\": \"fahrenheit\"}', name='get_current_weather'), type='function'), ChatCompletionMessageToolCall(id='call_WHcRBHRL6dhaKD2yURGO1O1o', function=Function(arguments='{\"location\": \"islamabad\", \"unit\": \"fahrenheit\"}', name='get_current_weather'), type='function')]), {'tool_call_id': 'call_iDjSEbYMrDZDmPDaEExJiy2U', 'role': 'tool', 'name': 'get_current_weather', 'content': '{\"location\": \"Lahore\", \"temperature\": \"22\", \"unit\": \"celsius\"}'}, {'tool_call_id': 'call_WHcRBHRL6dhaKD2yURGO1O1o', 'role': 'tool', 'name': 'get_current_weather', 'content': '{\"location\": \"Islamabad\", \"temperature\": \"72\", \"unit\": \"fahrenheit\"}'}]\n"
     ]
    },
    {
     "data": {
      "text/plain": [
       "\"Second response  : {'id': 'chatcmpl-9Ytgg4WL8OrFVWd2vieQBBeJwIkYH', 'choices': [Choice(finish_reason='stop', index=0, logprobs=None, message=ChatCompletionMessage(content='The current temperature in Lahore is 22 degrees Celsius, which is approximately 71.6 degrees Fahrenheit. The current temperature in Islamabad is 72 degrees Fahrenheit.', role='assistant', function_call=None, tool_calls=None))], 'created': 1718104242, 'model': 'gpt-3.5-turbo-1106', 'object': 'chat.completion', 'system_fingerprint': 'fp_482d920018', 'usage': CompletionUsage(completion_tokens=32, prompt_tokens=137, total_tokens=169)}\""
      ]
     },
     "metadata": {},
     "output_type": "display_data"
    },
    {
     "data": {
      "text/plain": [
       "'The current temperature in Lahore is 22 degrees Celsius, which is approximately 71.6 degrees Fahrenheit. The current temperature in Islamabad is 72 degrees Fahrenheit.'"
      ]
     },
     "execution_count": 135,
     "metadata": {},
     "output_type": "execute_result"
    }
   ],
   "source": [
    "weather_bot(\"What is the weather like in Lahore and islamabad. Give the resuts in Fahrenheit \")"
   ]
  }
 ],
 "metadata": {
  "kernelspec": {
   "display_name": "base",
   "language": "python",
   "name": "python3"
  },
  "language_info": {
   "codemirror_mode": {
    "name": "ipython",
    "version": 3
   },
   "file_extension": ".py",
   "mimetype": "text/x-python",
   "name": "python",
   "nbconvert_exporter": "python",
   "pygments_lexer": "ipython3",
   "version": "3.11.6"
  }
 },
 "nbformat": 4,
 "nbformat_minor": 2
}
