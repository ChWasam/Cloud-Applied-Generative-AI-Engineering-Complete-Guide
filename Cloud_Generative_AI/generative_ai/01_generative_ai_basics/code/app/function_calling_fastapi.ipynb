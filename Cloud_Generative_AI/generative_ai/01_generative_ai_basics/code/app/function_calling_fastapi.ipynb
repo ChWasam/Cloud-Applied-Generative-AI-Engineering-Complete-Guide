{
 "cells": [
  {
   "cell_type": "code",
   "execution_count": 1,
   "metadata": {},
   "outputs": [
    {
     "name": "stdout",
     "output_type": "stream",
     "text": [
      "Requirement already satisfied: requests in /opt/conda/lib/python3.11/site-packages (2.32.3)\n",
      "Requirement already satisfied: charset-normalizer<4,>=2 in /opt/conda/lib/python3.11/site-packages (from requests) (3.3.2)\n",
      "Requirement already satisfied: idna<4,>=2.5 in /opt/conda/lib/python3.11/site-packages (from requests) (3.7)\n",
      "Requirement already satisfied: urllib3<3,>=1.21.1 in /opt/conda/lib/python3.11/site-packages (from requests) (2.2.1)\n",
      "Requirement already satisfied: certifi>=2017.4.17 in /opt/conda/lib/python3.11/site-packages (from requests) (2024.2.2)\n"
     ]
    }
   ],
   "source": [
    "! pip install requests\n"
   ]
  },
  {
   "cell_type": "code",
   "execution_count": 2,
   "metadata": {},
   "outputs": [
    {
     "name": "stdout",
     "output_type": "stream",
     "text": [
      "Requirement already satisfied: openai in /opt/conda/lib/python3.11/site-packages (1.30.5)\n",
      "Requirement already satisfied: anyio<5,>=3.5.0 in /opt/conda/lib/python3.11/site-packages (from openai) (4.4.0)\n",
      "Requirement already satisfied: distro<2,>=1.7.0 in /opt/conda/lib/python3.11/site-packages (from openai) (1.9.0)\n",
      "Requirement already satisfied: httpx<1,>=0.23.0 in /opt/conda/lib/python3.11/site-packages (from openai) (0.27.0)\n",
      "Requirement already satisfied: pydantic<3,>=1.9.0 in /opt/conda/lib/python3.11/site-packages (from openai) (2.7.2)\n",
      "Requirement already satisfied: sniffio in /opt/conda/lib/python3.11/site-packages (from openai) (1.3.1)\n",
      "Requirement already satisfied: tqdm>4 in /opt/conda/lib/python3.11/site-packages (from openai) (4.66.4)\n",
      "Requirement already satisfied: typing-extensions<5,>=4.7 in /opt/conda/lib/python3.11/site-packages (from openai) (4.12.0)\n",
      "Requirement already satisfied: idna>=2.8 in /opt/conda/lib/python3.11/site-packages (from anyio<5,>=3.5.0->openai) (3.7)\n",
      "Requirement already satisfied: certifi in /opt/conda/lib/python3.11/site-packages (from httpx<1,>=0.23.0->openai) (2024.2.2)\n",
      "Requirement already satisfied: httpcore==1.* in /opt/conda/lib/python3.11/site-packages (from httpx<1,>=0.23.0->openai) (1.0.5)\n",
      "Requirement already satisfied: h11<0.15,>=0.13 in /opt/conda/lib/python3.11/site-packages (from httpcore==1.*->httpx<1,>=0.23.0->openai) (0.14.0)\n",
      "Requirement already satisfied: annotated-types>=0.4.0 in /opt/conda/lib/python3.11/site-packages (from pydantic<3,>=1.9.0->openai) (0.7.0)\n",
      "Requirement already satisfied: pydantic-core==2.18.3 in /opt/conda/lib/python3.11/site-packages (from pydantic<3,>=1.9.0->openai) (2.18.3)\n"
     ]
    }
   ],
   "source": [
    "! pip install openai\n"
   ]
  },
  {
   "cell_type": "code",
   "execution_count": 3,
   "metadata": {},
   "outputs": [
    {
     "name": "stdout",
     "output_type": "stream",
     "text": [
      "Requirement already satisfied: python-dotenv in /opt/conda/lib/python3.11/site-packages (1.0.1)\n"
     ]
    }
   ],
   "source": [
    "! pip install python-dotenv"
   ]
  },
  {
   "cell_type": "code",
   "execution_count": 10,
   "metadata": {},
   "outputs": [
    {
     "data": {
      "text/plain": [
       "'{\"location\": \"Karachi\", \"temperature\": \"10\", \"unit\": \"celsius\"}'"
      ]
     },
     "execution_count": 10,
     "metadata": {},
     "output_type": "execute_result"
    }
   ],
   "source": [
    "import requests\n",
    "weather = requests.post(\"http://backend:8000/get_temperature\",json={\n",
    "  \"location\": \"karaChi\"\n",
    "})\n",
    "weather.json()"
   ]
  },
  {
   "cell_type": "code",
   "execution_count": 16,
   "metadata": {},
   "outputs": [],
   "source": [
    "from openai import  OpenAI\n",
    "from dotenv import find_dotenv, load_dotenv\n",
    "import os\n",
    "_:bool = load_dotenv(find_dotenv())\n",
    "\n",
    "client:OpenAI = OpenAI()"
   ]
  },
  {
   "cell_type": "code",
   "execution_count": 13,
   "metadata": {},
   "outputs": [
    {
     "data": {
      "text/plain": [
       "'{\"location\": \"Islamabad\", \"temperature\": \"72\", \"unit\": \"fahrenheit\"}'"
      ]
     },
     "execution_count": 13,
     "metadata": {},
     "output_type": "execute_result"
    }
   ],
   "source": [
    "def get_temp_from_fastapi(location:str):\n",
    "    url = \"http://backend:8000/get_temperature\"\n",
    "    payload = {\n",
    "        \"location\": location\n",
    "    }\n",
    "    weather = requests.post(\"http://backend:8000/get_temperature\",json=payload)\n",
    "    return weather.json()\n",
    "get_temp_from_fastapi(\"Islamabad\")"
   ]
  },
  {
   "cell_type": "code",
   "execution_count": 19,
   "metadata": {},
   "outputs": [],
   "source": [
    "import requests\n",
    "from openai.types.chat.chat_completion import ChatCompletion\n",
    "import json \n",
    "\n",
    "def get_weather_through_fastapi(location:str):\n",
    "    url = \"http://backend:8000/get_temperature\"\n",
    "    payload = {\n",
    "        \"location\": location\n",
    "    }\n",
    "    weather = requests.post(\"http://backend:8000/get_temperature\",json=payload)\n",
    "    return weather.json()\n",
    "\n",
    "def weather_bot(prompt:str)-> str:\n",
    "    messages = [\n",
    "            {\n",
    "                \"role\":\"user\",\n",
    "                \"content\":prompt\n",
    "            }\n",
    "        ]\n",
    "    tools = [\n",
    "            {\n",
    "            \"type\": \"function\",\n",
    "            \"function\": {\n",
    "                \"name\": \"get_weather_through_fastapi\",\n",
    "                \"description\": \"Get the current weather in a given location\",\n",
    "                \"parameters\": {\n",
    "                    \"type\": \"object\",\n",
    "                    \"properties\": {\n",
    "                        \"location\": {\n",
    "                            \"type\": \"string\",\n",
    "                            \"description\": \"The city and state, e.g. lahore, karachi\",\n",
    "                        },\n",
    "                    },\n",
    "                    \"required\": [\"location\"],\n",
    "                    },\n",
    "                },\n",
    "            }\n",
    "        ]\n",
    "    response_1: ChatCompletion = client.chat.completions.create(\n",
    "        messages= messages,\n",
    "        model = \"gpt-3.5-turbo-1106\",\n",
    "        tools = tools,\n",
    "        tool_choice =\"auto\" \n",
    "    )\n",
    "    response_1_msg = response_1.choices[0].message\n",
    "    response_1_tool_calls = response_1_msg.tool_calls\n",
    "    print(f\"Response 1 tool calls: {list(response_1_tool_calls)}\")\n",
    "\n",
    "    if response_1_tool_calls:\n",
    "        available_functions = {\n",
    "            \"get_weather_through_fastapi\" : get_weather_through_fastapi\n",
    "        }\n",
    "        messages.append(response_1_msg)\n",
    "\n",
    "        for tool_call in response_1_tool_calls:\n",
    "            function_name = str(tool_call.function.name)\n",
    "            function_to_call = available_functions.get(function_name)\n",
    "            function_args = json.loads(tool_call.function.arguments)\n",
    "            function_response = function_to_call(\n",
    "                function_args.get(\"location\")\n",
    "            )\n",
    "            messages.append(\n",
    "                {\n",
    "                    \"tool_call_id\": tool_call.id , \n",
    "                    \"role\":\"tool\",\n",
    "                    \"name\":function_name,\n",
    "                    \"content\": function_response\n",
    "                }\n",
    "            )\n",
    "    print(f\"messages to get Second response  : {messages}\")\n",
    "    second_response: ChatCompletion = client.chat.completions.create(\n",
    "        messages = messages,\n",
    "        model = \"gpt-3.5-turbo-1106\"\n",
    "    )\n",
    "    display((f\"Second response  : {dict(second_response)}\"))\n",
    "    return second_response.choices[0].message.content\n",
    "\n",
    "\n",
    "\n",
    "        \n",
    "    \n",
    "\n",
    "\n"
   ]
  },
  {
   "cell_type": "code",
   "execution_count": 20,
   "metadata": {},
   "outputs": [
    {
     "name": "stdout",
     "output_type": "stream",
     "text": [
      "Response 1 tool calls: [ChatCompletionMessageToolCall(id='call_XNxyJxvECidp6LN5jByRUaLh', function=Function(arguments='{\"location\":\"Islamabad\"}', name='get_weather_through_fastapi'), type='function')]\n",
      "messages to get Second response  : [{'role': 'user', 'content': \"what's the weather like in Islamabad\"}, ChatCompletionMessage(content=None, role='assistant', function_call=None, tool_calls=[ChatCompletionMessageToolCall(id='call_XNxyJxvECidp6LN5jByRUaLh', function=Function(arguments='{\"location\":\"Islamabad\"}', name='get_weather_through_fastapi'), type='function')]), {'tool_call_id': 'call_XNxyJxvECidp6LN5jByRUaLh', 'role': 'tool', 'name': 'get_weather_through_fastapi', 'content': '{\"location\": \"Islamabad\", \"temperature\": \"72\", \"unit\": \"fahrenheit\"}'}]\n"
     ]
    },
    {
     "data": {
      "text/plain": [
       "\"Second response  : {'id': 'chatcmpl-9ZEK7yZc665GFKjrIjozM3Ntj1gUK', 'choices': [Choice(finish_reason='stop', index=0, logprobs=None, message=ChatCompletionMessage(content='Currently, the weather in Islamabad is 72 degrees Fahrenheit.', role='assistant', function_call=None, tool_calls=None))], 'created': 1718183567, 'model': 'gpt-3.5-turbo-1106', 'object': 'chat.completion', 'system_fingerprint': 'fp_482d920018', 'usage': CompletionUsage(completion_tokens=12, prompt_tokens=63, total_tokens=75)}\""
      ]
     },
     "metadata": {},
     "output_type": "display_data"
    },
    {
     "data": {
      "text/plain": [
       "'Currently, the weather in Islamabad is 72 degrees Fahrenheit.'"
      ]
     },
     "execution_count": 20,
     "metadata": {},
     "output_type": "execute_result"
    }
   ],
   "source": [
    "weather_bot(\"what's the weather like in Islamabad\")"
   ]
  },
  {
   "cell_type": "code",
   "execution_count": 21,
   "metadata": {},
   "outputs": [
    {
     "name": "stdout",
     "output_type": "stream",
     "text": [
      "Response 1 tool calls: [ChatCompletionMessageToolCall(id='call_oqByMHt0tIIA8mcGoaa1ld4N', function=Function(arguments='{\"location\": \"islamabad\"}', name='get_weather_through_fastapi'), type='function'), ChatCompletionMessageToolCall(id='call_F11zxztx8iFTVyiOtN3kBQi6', function=Function(arguments='{\"location\": \"karachi\"}', name='get_weather_through_fastapi'), type='function')]\n",
      "messages to get Second response  : [{'role': 'user', 'content': \"what's the weather like in Islamabad in celsius and karachi in Fahrenheit\"}, ChatCompletionMessage(content=None, role='assistant', function_call=None, tool_calls=[ChatCompletionMessageToolCall(id='call_oqByMHt0tIIA8mcGoaa1ld4N', function=Function(arguments='{\"location\": \"islamabad\"}', name='get_weather_through_fastapi'), type='function'), ChatCompletionMessageToolCall(id='call_F11zxztx8iFTVyiOtN3kBQi6', function=Function(arguments='{\"location\": \"karachi\"}', name='get_weather_through_fastapi'), type='function')]), {'tool_call_id': 'call_oqByMHt0tIIA8mcGoaa1ld4N', 'role': 'tool', 'name': 'get_weather_through_fastapi', 'content': '{\"location\": \"Islamabad\", \"temperature\": \"72\", \"unit\": \"fahrenheit\"}'}, {'tool_call_id': 'call_F11zxztx8iFTVyiOtN3kBQi6', 'role': 'tool', 'name': 'get_weather_through_fastapi', 'content': '{\"location\": \"Karachi\", \"temperature\": \"10\", \"unit\": \"celsius\"}'}]\n"
     ]
    },
    {
     "data": {
      "text/plain": [
       "\"Second response  : {'id': 'chatcmpl-9ZELLCfwbo8LyqOx6t0FYbBjxPqk7', 'choices': [Choice(finish_reason='stop', index=0, logprobs=None, message=ChatCompletionMessage(content='The weather in Islamabad is 72°F (22°C) and in Karachi is 10°C (50°F).', role='assistant', function_call=None, tool_calls=None))], 'created': 1718183643, 'model': 'gpt-3.5-turbo-1106', 'object': 'chat.completion', 'system_fingerprint': 'fp_482d920018', 'usage': CompletionUsage(completion_tokens=23, prompt_tokens=126, total_tokens=149)}\""
      ]
     },
     "metadata": {},
     "output_type": "display_data"
    },
    {
     "data": {
      "text/plain": [
       "'The weather in Islamabad is 72°F (22°C) and in Karachi is 10°C (50°F).'"
      ]
     },
     "execution_count": 21,
     "metadata": {},
     "output_type": "execute_result"
    }
   ],
   "source": [
    "weather_bot(\"what's the weather like in Islamabad in celsius and karachi in Fahrenheit\")"
   ]
  }
 ],
 "metadata": {
  "kernelspec": {
   "display_name": "base",
   "language": "python",
   "name": "python3"
  },
  "language_info": {
   "codemirror_mode": {
    "name": "ipython",
    "version": 3
   },
   "file_extension": ".py",
   "mimetype": "text/x-python",
   "name": "python",
   "nbconvert_exporter": "python",
   "pygments_lexer": "ipython3",
   "version": "3.11.6"
  }
 },
 "nbformat": 4,
 "nbformat_minor": 2
}
