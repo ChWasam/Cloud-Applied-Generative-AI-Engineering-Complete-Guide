{
 "cells": [
  {
   "cell_type": "code",
   "execution_count": 4,
   "metadata": {},
   "outputs": [],
   "source": [
    "from openai import OpenAI\n",
    "from dotenv import load_dotenv, find_dotenv\n",
    "import os\n",
    "\n",
    "_ : bool = load_dotenv(find_dotenv())\n",
    "\n",
    "client: OpenAI = OpenAI()"
   ]
  },
  {
   "cell_type": "code",
   "execution_count": 7,
   "metadata": {},
   "outputs": [],
   "source": [
    "from openai.types.chat.chat_completion import ChatCompletion\n",
    "\n",
    "def chat_completion (prompt:str) -> ChatCompletion:\n",
    "    response:ChatCompletion = client.chat.completions.create(\n",
    "        messages=[\n",
    "            {\n",
    "                \"role\" : \"user\",\n",
    "                #  User can be agent or other AI model \n",
    "                \"content\" : prompt              \n",
    "            },\n",
    "            {\n",
    "                \"role\": \"system\",  \n",
    "                #  Syestem ko samjhain kah yeh chatgpt ka server ha\n",
    "                \"content\": \"you are a docter,specialized in allergy.\"\n",
    "                #  prompt formats: You are _____ , skilled in ______\n",
    "            }\n",
    "        ],\n",
    "        model= \"gpt-3.5-turbo-1106\"\n",
    "    )\n",
    "    return response\n",
    "\n",
    "output: ChatCompletion = chat_completion(\"I am suffering with pollen allergy, Give me remedies for curing it in 4 lines\")\n",
    "\n"
   ]
  },
  {
   "cell_type": "code",
   "execution_count": 13,
   "metadata": {},
   "outputs": [
    {
     "name": "stdout",
     "output_type": "stream",
     "text": [
      "1. Take over-the-counter antihistamines to help reduce symptoms.\n",
      "2. Use a nasal spray to alleviate congestion and runny nose.\n",
      "3. Keep windows closed during high pollen days to minimize exposure.\n",
      "4. Consider allergy shots or immunotherapy for long-term relief.\n"
     ]
    }
   ],
   "source": [
    "print(output.choices[0].message.content)"
   ]
  }
 ],
 "metadata": {
  "kernelspec": {
   "display_name": "base",
   "language": "python",
   "name": "python3"
  },
  "language_info": {
   "codemirror_mode": {
    "name": "ipython",
    "version": 3
   },
   "file_extension": ".py",
   "mimetype": "text/x-python",
   "name": "python",
   "nbconvert_exporter": "python",
   "pygments_lexer": "ipython3",
   "version": "3.11.6"
  }
 },
 "nbformat": 4,
 "nbformat_minor": 2
}
