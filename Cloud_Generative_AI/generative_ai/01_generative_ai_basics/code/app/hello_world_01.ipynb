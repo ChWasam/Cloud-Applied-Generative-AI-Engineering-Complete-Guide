{
 "cells": [
  {
   "cell_type": "code",
   "execution_count": 1,
   "metadata": {},
   "outputs": [],
   "source": [
    "from openai import OpenAI\n",
    "from dotenv import load_dotenv, find_dotenv\n",
    "import os\n",
    "\n",
    "_ : bool = load_dotenv(find_dotenv())\n",
    "client: OpenAI = OpenAI()"
   ]
  },
  {
   "cell_type": "code",
   "execution_count": 13,
   "metadata": {},
   "outputs": [
    {
     "data": {
      "text/plain": [
       "'/code/app/.env'"
      ]
     },
     "execution_count": 13,
     "metadata": {},
     "output_type": "execute_result"
    }
   ],
   "source": [
    "find_dotenv()"
   ]
  },
  {
   "cell_type": "code",
   "execution_count": 2,
   "metadata": {},
   "outputs": [
    {
     "data": {
      "text/plain": [
       "'/code/app'"
      ]
     },
     "execution_count": 2,
     "metadata": {},
     "output_type": "execute_result"
    }
   ],
   "source": [
    "pwd"
   ]
  },
  {
   "cell_type": "code",
   "execution_count": 3,
   "metadata": {},
   "outputs": [
    {
     "name": "stdout",
     "output_type": "stream",
     "text": [
      "__init__.py  main.ipynb\n"
     ]
    }
   ],
   "source": [
    "ls"
   ]
  },
  {
   "cell_type": "code",
   "execution_count": 6,
   "metadata": {},
   "outputs": [
    {
     "name": "stdout",
     "output_type": "stream",
     "text": [
      "{'id': 'chatcmpl-9X2AbfYCrY8jnrlGS4C7h0FzegLLQ', 'choices': [Choice(finish_reason='stop', index=0, logprobs=None, message=ChatCompletionMessage(content='The sum of 2 + 2 is 4.', role='assistant', function_call=None, tool_calls=None))], 'created': 1717660193, 'model': 'gpt-3.5-turbo-1106', 'object': 'chat.completion', 'system_fingerprint': 'fp_482d920018', 'usage': CompletionUsage(completion_tokens=12, prompt_tokens=16, total_tokens=28)}\n"
     ]
    },
    {
     "data": {
      "text/plain": [
       "'The sum of 2 + 2 is 4.'"
      ]
     },
     "execution_count": 6,
     "metadata": {},
     "output_type": "execute_result"
    }
   ],
   "source": [
    "from openai.types.chat.chat_completion import ChatCompletion\n",
    "def chat_bot(prompt:str)->str:\n",
    "    response: ChatCompletion = client.chat.completions.create(\n",
    "        messages= [\n",
    "            { \n",
    "                \"role\":\"user\",\n",
    "                \"content\":prompt\n",
    "            }\n",
    "        ],\n",
    "        model= \"gpt-3.5-turbo-1106\"\n",
    "    )\n",
    "    print(dict(response))\n",
    "    return response.choices[0].message.content\n",
    "\n",
    "chat_bot(\"what is the sum of 2+2\")\n"
   ]
  },
  {
   "cell_type": "markdown",
   "metadata": {},
   "source": [
    "# Reaponse in chat completion"
   ]
  },
  {
   "cell_type": "code",
   "execution_count": 7,
   "metadata": {},
   "outputs": [],
   "source": [
    "from openai.types.chat.chat_completion import ChatCompletion\n",
    "def chat_bot(prompt:str)->ChatCompletion:\n",
    "    response: ChatCompletion = client.chat.completions.create(\n",
    "        messages= [\n",
    "            { \n",
    "                \"role\":\"user\",\n",
    "                \"content\":prompt\n",
    "            }\n",
    "        ],\n",
    "        model= \"gpt-3.5-turbo-1106\"\n",
    "    )\n",
    "    return response\n",
    "\n",
    "output:ChatCompletion = chat_bot(\"what is the sum of 2+2\")"
   ]
  },
  {
   "cell_type": "code",
   "execution_count": 12,
   "metadata": {},
   "outputs": [
    {
     "data": {
      "text/plain": [
       "'The sum of 2+2 is 4.'"
      ]
     },
     "execution_count": 12,
     "metadata": {},
     "output_type": "execute_result"
    }
   ],
   "source": [
    "output.choices[0].message.content"
   ]
  },
  {
   "cell_type": "code",
   "execution_count": 14,
   "metadata": {},
   "outputs": [
    {
     "name": "stdout",
     "output_type": "stream",
     "text": [
      "('{\"id\":\"chatcmpl-9X30K6pJbS7lTnzreUTdY9uUKSnj6\",\"choices\":[{\"finish_reason\":\"stop\",\"index\":0,\"logprobs\":null,\"message\":{\"content\":\"The '\n",
      " 'sum of 2+2 is '\n",
      " '4.\",\"role\":\"assistant\",\"function_call\":null,\"tool_calls\":null}}],\"created\":1717663400,\"model\":\"gpt-3.5-turbo-1106\",\"object\":\"chat.completion\",\"system_fingerprint\":\"fp_482d920018\",\"usage\":{\"completion_tokens\":11,\"prompt_tokens\":16,\"total_tokens\":27}}')\n"
     ]
    }
   ],
   "source": [
    "import pprint\n",
    "pprint.pprint(output.json())"
   ]
  }
 ],
 "metadata": {
  "kernelspec": {
   "display_name": "base",
   "language": "python",
   "name": "python3"
  },
  "language_info": {
   "codemirror_mode": {
    "name": "ipython",
    "version": 3
   },
   "file_extension": ".py",
   "mimetype": "text/x-python",
   "name": "python",
   "nbconvert_exporter": "python",
   "pygments_lexer": "ipython3",
   "version": "3.11.7"
  }
 },
 "nbformat": 4,
 "nbformat_minor": 2
}
