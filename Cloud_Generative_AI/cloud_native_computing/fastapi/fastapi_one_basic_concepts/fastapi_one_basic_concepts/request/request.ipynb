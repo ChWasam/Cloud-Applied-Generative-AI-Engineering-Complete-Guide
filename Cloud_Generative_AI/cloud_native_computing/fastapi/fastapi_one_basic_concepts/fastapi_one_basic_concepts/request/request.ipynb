{
 "cells": [
  {
   "cell_type": "code",
   "execution_count": 17,
   "metadata": {},
   "outputs": [
    {
     "name": "stdout",
     "output_type": "stream",
     "text": [
      "<Response [200]>\n",
      "200\n",
      "{'Date': 'Mon, 29 Jul 2024 13:11:27 GMT', 'Content-Type': 'application/json; charset=utf-8', 'Content-Length': '46', 'Connection': 'keep-alive', 'x-powered-by': 'Express', 'etag': 'W/\"2e-kh6L/Eo2ZbYePMROtHK7TuPdR1U\"'}\n"
     ]
    },
    {
     "data": {
      "text/plain": [
       "'{\"message\":\"Welcome to the Simple Books API.\"}'"
      ]
     },
     "metadata": {},
     "output_type": "display_data"
    },
    {
     "name": "stdout",
     "output_type": "stream",
     "text": [
      "{'message': 'Welcome to the Simple Books API.'}\n",
      "b'{\"message\":\"Welcome to the Simple Books API.\"}'\n"
     ]
    },
    {
     "data": {
      "text/plain": [
       "{'message': 'Welcome to the Simple Books API.'}"
      ]
     },
     "metadata": {},
     "output_type": "display_data"
    },
    {
     "name": "stdout",
     "output_type": "stream",
     "text": [
      "application/json; charset=utf-8\n",
      "Welcome to the Simple Books API.\n"
     ]
    }
   ],
   "source": [
    "import requests\n",
    "\n",
    "from requests.models import Response\n",
    "from requests.structures import CaseInsensitiveDict\n",
    "\n",
    "response : Response = requests.get('https://simple-books-api.glitch.me')\n",
    "\n",
    "# When you make an HTTP request to a server, the response might be in various formats such as HTML, plain text, XML, or JSON. If the response is in JSON format, it means the data is structured as a series of key-value pairs, similar to a Python dictionary.\n",
    "\n",
    "print(response)\n",
    "print(response.status_code)\n",
    "\n",
    "headers : CaseInsensitiveDict = response.headers\n",
    "print(headers)\n",
    "\n",
    "# display(response.text) will convert response to json string \n",
    "display(response.text)\n",
    "#  response.text => str type ha\n",
    "\n",
    "import json \n",
    "data = json.loads(response.text)\n",
    "print(data)\n",
    "\n",
    "\n",
    "print(response.content)\n",
    "# Unlike response.text, which attempts to decode the content using the encoding specified in the response headers (defaulting to utf-8 if none is provided), response.content does not decode the content and returns it as-is.\n",
    "\n",
    "display(response.json())\n",
    "#  yeh command basically json ko parse karti ha \n",
    "# response.json() converts the response content to a Python dictionary (or list) only if the response is in JSON format. If the response is not in JSON format, you’ll get a ValueError: No JSON object could be decoded.\n",
    "\n",
    "# It is good practice to check the Content-Type header or use a try-except block to handle cases where the response might not be JSON.\n",
    "print(response.headers['Content-Type'])\n",
    "\n",
    "#  When json = {\"message\":\"Welcome to the Simple Books API.\"} converted to dictionary it turn into single quote json = {'message': 'Welcome to the Simple Books API.'}\n",
    "\n",
    "\n",
    "\n",
    "# samjho yeh response ay ha server sa {\"message\":\"Welcome to the Simple Books API.\"}\n",
    "# hama message access server sa access karna ha to response.mmessage ho ga \n",
    "# agar json string me convert kis to asa direct access nahi kar saktay\n",
    "#  is ka lia display(response.json()) use karna hota ha\n",
    "# phir hama dictionary ka tariqa sa access karna hota ha like response.json()['message']\n",
    "\n",
    "print(response.json()['message'])\n",
    "\n",
    "\n",
    "#   we can also use Using type() to Check the Data Type of the Response\n",
    "\n",
    "\n"
   ]
  },
  {
   "cell_type": "markdown",
   "metadata": {},
   "source": []
  }
 ],
 "metadata": {
  "kernelspec": {
   "display_name": ".venv",
   "language": "python",
   "name": "python3"
  },
  "language_info": {
   "codemirror_mode": {
    "name": "ipython",
    "version": 3
   },
   "file_extension": ".py",
   "mimetype": "text/x-python",
   "name": "python",
   "nbconvert_exporter": "python",
   "pygments_lexer": "ipython3",
   "version": "3.12.2"
  }
 },
 "nbformat": 4,
 "nbformat_minor": 2
}
