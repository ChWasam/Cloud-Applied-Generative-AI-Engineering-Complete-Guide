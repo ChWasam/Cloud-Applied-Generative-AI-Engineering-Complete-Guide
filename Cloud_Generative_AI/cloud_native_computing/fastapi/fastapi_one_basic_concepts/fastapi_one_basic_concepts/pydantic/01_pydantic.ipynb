{
 "cells": [
  {
   "cell_type": "code",
   "execution_count": null,
   "metadata": {},
   "outputs": [],
   "source": [
    "# PYDANTIC \n",
    "\n",
    "## AP jo bhi schema bnata ha aus schema ko validate krne k lie pydantic ka use hota ha\n",
    "## schema ka matlab hota ha koi bhi data jo hum recieve kr rha ha wo kesa hona chahiye\n",
    "## humne ek schema bnai ha jisme humne name, age, email, password, etc. ye sab fields add kiye hain\n",
    "## ab agr koi user data send kr rha ha to wo data schema k mutabiq hona chahiye\n",
    "## e.g agar email field ha to email ka format hona chahiye, password field ha to password ka format hona chahiye"
   ]
  },
  {
   "cell_type": "code",
   "execution_count": 1,
   "metadata": {},
   "outputs": [
    {
     "name": "stdout",
     "output_type": "stream",
     "text": [
      "datetime.datetime(2020, 1, 2, 3, 4, 5, tzinfo=TzInfo(UTC))\n",
      "2020-01-02 03:04:05+00:00\n",
      "(10, 20)\n"
     ]
    }
   ],
   "source": [
    "from datetime import datetime\n",
    "from typing import Tuple\n",
    "from pydantic import BaseModel\n",
    "\n",
    "class Checking(BaseModel):\n",
    "    time_stamp: datetime\n",
    "    dimentons: Tuple[int,int]\n",
    "\n",
    "m = Checking(time_stamp='2020-01-02T03:04:05Z', dimentons=['10', '20'])\n",
    "#  10 and 20 are string but they can be converted into numbers that's why they are allowed here\n",
    "#  \n",
    "\n",
    "#  repr => representation\n",
    "print(repr(m.time_stamp))\n",
    "print(m.time_stamp)\n",
    "print(m.dimentons)"
   ]
  },
  {
   "cell_type": "markdown",
   "metadata": {},
   "source": [
    "## Generating validation error for Checking"
   ]
  },
  {
   "cell_type": "code",
   "execution_count": 2,
   "metadata": {},
   "outputs": [
    {
     "ename": "ValidationError",
     "evalue": "1 validation error for Checking\ndimentons.0\n  Input should be a valid integer, unable to parse string as an integer [type=int_parsing, input_value='10.20', input_type=str]\n    For further information visit https://errors.pydantic.dev/2.7/v/int_parsing",
     "output_type": "error",
     "traceback": [
      "\u001b[0;31m---------------------------------------------------------------------------\u001b[0m",
      "\u001b[0;31mValidationError\u001b[0m                           Traceback (most recent call last)",
      "Cell \u001b[0;32mIn[2], line 3\u001b[0m\n\u001b[1;32m      1\u001b[0m \u001b[38;5;66;03m#  Here i am using float and checking if it give error \u001b[39;00m\n\u001b[0;32m----> 3\u001b[0m m \u001b[38;5;241m=\u001b[39m \u001b[43mChecking\u001b[49m\u001b[43m(\u001b[49m\u001b[43mtime_stamp\u001b[49m\u001b[38;5;241;43m=\u001b[39;49m\u001b[38;5;124;43m'\u001b[39;49m\u001b[38;5;124;43m2020-01-02T03:04:05Z\u001b[39;49m\u001b[38;5;124;43m'\u001b[39;49m\u001b[43m,\u001b[49m\u001b[43m \u001b[49m\u001b[43mdimentons\u001b[49m\u001b[38;5;241;43m=\u001b[39;49m\u001b[43m[\u001b[49m\u001b[38;5;124;43m'\u001b[39;49m\u001b[38;5;124;43m10.20\u001b[39;49m\u001b[38;5;124;43m'\u001b[39;49m\u001b[43m,\u001b[49m\u001b[43m \u001b[49m\u001b[38;5;124;43m'\u001b[39;49m\u001b[38;5;124;43m20\u001b[39;49m\u001b[38;5;124;43m'\u001b[39;49m\u001b[43m]\u001b[49m\u001b[43m)\u001b[49m\n\u001b[1;32m      4\u001b[0m \u001b[38;5;66;03m#  10 and 20 were string but they can be converted into numbers that's why they are allowed here\u001b[39;00m\n\u001b[1;32m      5\u001b[0m \u001b[38;5;66;03m#  \u001b[39;00m\n\u001b[1;32m      6\u001b[0m \n\u001b[1;32m      7\u001b[0m \u001b[38;5;66;03m#  repr => representation\u001b[39;00m\n\u001b[1;32m      8\u001b[0m \u001b[38;5;28mprint\u001b[39m(\u001b[38;5;28mrepr\u001b[39m(m\u001b[38;5;241m.\u001b[39mtime_stamp))\n",
      "File \u001b[0;32m~/Study/Cloud-Applied-Generative-AI-Engineering-Complete-Guide/Cloud_Generative_AI/cloud_native_computing/fastapi/fastapi_one_basic_concepts/.venv/lib/python3.12/site-packages/pydantic/main.py:176\u001b[0m, in \u001b[0;36mBaseModel.__init__\u001b[0;34m(self, **data)\u001b[0m\n\u001b[1;32m    174\u001b[0m \u001b[38;5;66;03m# `__tracebackhide__` tells pytest and some other tools to omit this function from tracebacks\u001b[39;00m\n\u001b[1;32m    175\u001b[0m __tracebackhide__ \u001b[38;5;241m=\u001b[39m \u001b[38;5;28;01mTrue\u001b[39;00m\n\u001b[0;32m--> 176\u001b[0m \u001b[38;5;28;43mself\u001b[39;49m\u001b[38;5;241;43m.\u001b[39;49m\u001b[43m__pydantic_validator__\u001b[49m\u001b[38;5;241;43m.\u001b[39;49m\u001b[43mvalidate_python\u001b[49m\u001b[43m(\u001b[49m\u001b[43mdata\u001b[49m\u001b[43m,\u001b[49m\u001b[43m \u001b[49m\u001b[43mself_instance\u001b[49m\u001b[38;5;241;43m=\u001b[39;49m\u001b[38;5;28;43mself\u001b[39;49m\u001b[43m)\u001b[49m\n",
      "\u001b[0;31mValidationError\u001b[0m: 1 validation error for Checking\ndimentons.0\n  Input should be a valid integer, unable to parse string as an integer [type=int_parsing, input_value='10.20', input_type=str]\n    For further information visit https://errors.pydantic.dev/2.7/v/int_parsing"
     ]
    }
   ],
   "source": [
    "#  Here i am using float and checking if it give error \n",
    "\n",
    "m = Checking(time_stamp='2020-01-02T03:04:05Z', dimentons=['10.20', '20'])\n",
    "#  10 and 20 were string but they can be converted into numbers that's why they are allowed here\n",
    "#  \n",
    "\n",
    "#  repr => representation\n",
    "print(repr(m.time_stamp))\n",
    "print(m.time_stamp)\n",
    "print(m.dimentons)"
   ]
  },
  {
   "cell_type": "markdown",
   "metadata": {},
   "source": []
  },
  {
   "cell_type": "code",
   "execution_count": 7,
   "metadata": {},
   "outputs": [
    {
     "name": "stdout",
     "output_type": "stream",
     "text": [
      "{'cricket': 12, 'footbal': 15, 'hicking': 20}\n",
      "id=12 name='Wasam' user_ts=datetime.datetime(2016, 3, 24, 4, 5) hobbies={'cricket': 12, 'footbal': 15, 'hicking': 20}\n",
      "{'id': 12, 'name': 'Wasam', 'user_ts': datetime.datetime(2016, 3, 24, 4, 5), 'hobbies': {'cricket': 12, 'footbal': 15, 'hicking': 20}}\n",
      "{\"id\":12,\"name\":\"Wasam\",\"user_ts\":\"2016-03-24T04:05:00\",\"hobbies\":{\"cricket\":12,\"footbal\":15,\"hicking\":20}}\n"
     ]
    }
   ],
   "source": [
    "from datetime import datetime\n",
    "from pydantic import BaseModel,PositiveInt\n",
    "\n",
    "class User(BaseModel):\n",
    "    id: int \n",
    "    name:str\n",
    "    user_ts: datetime| None\n",
    "    hobbies: dict[ str , PositiveInt]\n",
    "\n",
    "data:dict = {\n",
    "    \"id\" : 12 ,\n",
    "    \"name\" : \"Wasam\",\n",
    "    \"user_ts\": \"2016-03-24 04:05\" ,\n",
    "    \"hobbies\": {\n",
    "        \"cricket\" : 12,\n",
    "        \"footbal\" : 15,\n",
    "        \"hicking\" :20,\n",
    "    }\n",
    "}\n",
    "\n",
    "# **data =>  double staric laga kah wo jab bhi dict ko pass karta ha to wo kwyword argument jata han \n",
    "\n",
    "user1: User = User(**data)\n",
    "\n",
    "print(user1.hobbies)\n",
    "print(user1)\n",
    "print(user1.model_dump())\n",
    "\n",
    "# The model_dump() method is a way to convert your model instance into a dictionary, making it easier to work with in scenarios where you need the data in a standard format \n",
    "\n",
    "#  user1.model_dump() method converts user1 to a dictionary format, not JSON\n",
    "\n",
    "\n",
    "# now i will convert user1 to json format\n",
    "print(user1.model_dump_json())"
   ]
  },
  {
   "cell_type": "markdown",
   "metadata": {},
   "source": [
    "# Getting error in meaningful format "
   ]
  },
  {
   "cell_type": "code",
   "execution_count": 17,
   "metadata": {},
   "outputs": [
    {
     "data": {
      "text/plain": [
       "[{'type': 'int_parsing',\n",
       "  'loc': ('id',),\n",
       "  'msg': 'Input should be a valid integer, unable to parse string as an integer',\n",
       "  'input': 'Wasam',\n",
       "  'url': 'https://errors.pydantic.dev/2.7/v/int_parsing'},\n",
       " {'type': 'missing',\n",
       "  'loc': ('user_ts',),\n",
       "  'msg': 'Field required',\n",
       "  'input': {'id': 'Wasam', 'name': 'Wasam', 'hobbies': {}},\n",
       "  'url': 'https://errors.pydantic.dev/2.7/v/missing'}]"
      ]
     },
     "metadata": {},
     "output_type": "display_data"
    }
   ],
   "source": [
    "\n",
    "from datetime import datetime\n",
    "from pydantic import BaseModel,PositiveInt,ValidationError\n",
    "\n",
    "class User(BaseModel):\n",
    "    id: int \n",
    "    name:str\n",
    "    user_ts: datetime\n",
    "    hobbies: dict[ str , PositiveInt]\n",
    "\n",
    "data:dict = {\n",
    "    \"id\" : \"Wasam\" ,\n",
    "    \"name\" : \"Wasam\",\n",
    "    \"hobbies\": {\n",
    "    }\n",
    "}\n",
    "try:\n",
    "    user1: User = User(**data)\n",
    "except ValidationError as e:\n",
    "    display(e.errors())\n"
   ]
  },
  {
   "cell_type": "code",
   "execution_count": 23,
   "metadata": {},
   "outputs": [
    {
     "name": "stdout",
     "output_type": "stream",
     "text": [
      "id=4 email='ch.wasam@gmai.com'\n",
      "{\"id\":4,\"email\":\"ch.wasam@gmai.com\"} <class 'str'>\n",
      "id=4 email='ch.wasam@gmai.com'\n"
     ]
    }
   ],
   "source": [
    "#  validator has been depricated \n",
    "#  Use field_validator instead of validator \n",
    "\n",
    "from pydantic import BaseModel,field_validator, EmailStr\n",
    "from typing import Any\n",
    "class User(BaseModel):\n",
    "    id : int\n",
    "    email: EmailStr\n",
    "\n",
    "    @field_validator('id')\n",
    "    #  convention ha kah jo bhi validate ka function bnao aus sa pehla validate ka word lagao\n",
    "    def validate_id(cls, value:int):\n",
    "        if value <= 0:\n",
    "            raise ValueError(f\"Id must be positive: {value}\")\n",
    "        # ValueError: Raised when the validation condition is not met.\n",
    "        return value\n",
    "    \n",
    "# validator must be written inside the class\n",
    "\n",
    "user = User(id = 4, email = \"ch.wasam@gmai.com\" )\n",
    "print(user)\n",
    "user_json_str: str = user.model_dump_json()\n",
    "print(user_json_str, type(user_json_str))\n",
    "user_obj: User = user.model_validate_json(user_json_str)\n",
    "print (user_obj)"
   ]
  },
  {
   "cell_type": "markdown",
   "metadata": {},
   "source": [
    "# Most Important Concept \n",
    "\n",
    "## model_dump_json:\n",
    "\n",
    "### This method converts the Pydantic model instance to a JSON string.\n",
    "\n",
    "### It is useful when you need to serialize your model instance to JSON format for storage or transmission.\n",
    "\n",
    "## model_validate_json:\n",
    "\n",
    "### This method (or its equivalent in newer versions of Pydantic) converts a JSON string back into a Pydantic model instance.\n",
    "\n",
    "### It is useful when you receive a JSON string and want to parse it back into a Pydantic model instance for further processing."
   ]
  },
  {
   "cell_type": "markdown",
   "metadata": {},
   "source": [
    "model_dump_json:\n",
    "\n",
    "This method converts the Pydantic model instance to a JSON string.\n",
    "It is useful when you need to serialize your model instance to JSON format for storage or transmission.\n",
    "model_validate_json:\n",
    "\n",
    "This method (or its equivalent in newer versions of Pydantic) converts a JSON string back into a Pydantic model instance.\n",
    "It is useful when you receive a JSON string and want to parse it back into a Pydantic model instance for further processing."
   ]
  }
 ],
 "metadata": {
  "kernelspec": {
   "display_name": ".venv",
   "language": "python",
   "name": "python3"
  },
  "language_info": {
   "codemirror_mode": {
    "name": "ipython",
    "version": 3
   },
   "file_extension": ".py",
   "mimetype": "text/x-python",
   "name": "python",
   "nbconvert_exporter": "python",
   "pygments_lexer": "ipython3",
   "version": "3.12.2"
  }
 },
 "nbformat": 4,
 "nbformat_minor": 2
}
