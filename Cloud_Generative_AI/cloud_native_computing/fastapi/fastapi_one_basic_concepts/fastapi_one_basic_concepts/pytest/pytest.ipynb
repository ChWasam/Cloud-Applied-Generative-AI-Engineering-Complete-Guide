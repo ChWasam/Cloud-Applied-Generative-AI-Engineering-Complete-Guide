{
 "cells": [
  {
   "cell_type": "markdown",
   "metadata": {},
   "source": [
    "# Fastapi core componenets in RUST that's why it is fast\n",
    "# Documentation\n",
    "# Testing\n",
    "# Data validation\n"
   ]
  },
  {
   "cell_type": "markdown",
   "metadata": {},
   "source": [
    "# Pytest\n",
    "## https://github.com/panaverse/learn-generative-ai/tree/main/04_everything_is_an_api/04_pytest"
   ]
  },
  {
   "cell_type": "markdown",
   "metadata": {},
   "source": [
    "# Development \n",
    "* Design First \n",
    "* UI First \n",
    "* Test Driven Development (TDD)\n",
    "\n"
   ]
  },
  {
   "cell_type": "markdown",
   "metadata": {},
   "source": [
    "# Different Types of error \n",
    "* Development time error  (e.g Syntax error like semicolon etc. Development ka doran hi theek ho sakta ha )\n",
    "* Production Time Error (Live application error => Handle through try catch etc)\n",
    "* Logical Error (Function jo kah 2 no ko apas me add karta ha . 1 +1 = 2 hona chahia lakin agar 1 string me da dia e.h \"1\" + \"1\" = 11)"
   ]
  },
  {
   "cell_type": "markdown",
   "metadata": {},
   "source": [
    "# Solving Logical Error in Python\n",
    "1. Domain expert solve karta ha \n",
    "2. QA department hota ha jo test karta ha function ko logic ja kah solve karo \n",
    "\n",
    "## We follow Test Driven Developmen (TDD)\n",
    "* Domain Expert na pehla sari logic bta de kah yeh input ho ga aur yeh output\n",
    "* ham khuch test domain expert sa likhwa lata han aur aus test case ko convert kar data han pytest me \n",
    "* pytest me ham test case likhwa kar function ko test karta han\n",
    "* Domain Expert ka intzar nahi karna para ga \n",
    "* Test case pehla hi likha hua han \n"
   ]
  },
  {
   "cell_type": "markdown",
   "metadata": {},
   "source": [
    "# Istructions\n",
    "* koi bhi cheez jisa test karna ha aus sa pehla test ka keyword laga lain be it file, function ,class etc\n",
    "* test_sample.py\n",
    "* def test_ans():\n",
    "\n",
    "## Jab btana ho kah ans yeh hona chahia to assert ka keyword use karta han "
   ]
  },
  {
   "cell_type": "markdown",
   "metadata": {},
   "source": [
    "## Code ko run karna ka lia pehla test ka folder me jana ho ga terminal sa \n",
    "\n",
    "\n",
    "## Terminal pa pytest likho  jtni bhi prefix test  ka sath files hoti han aun sab ko chala data ha \n",
    "\n",
    "## for particular file we can use filename with pytest\n",
    "\n",
    "## Addition information ko kam karna ka lia \"pytest -q file_ka_nam\" (-q for quite)\n",
    "\n",
    "## we can also use \"pytest test*.py\" (is sa jitni bhi files ka shuru me test ai ga wo chal jai ge )  (* matlab yahan khuch bhi a sakta ha )\n"
   ]
  },
  {
   "cell_type": "code",
   "execution_count": null,
   "metadata": {},
   "outputs": [],
   "source": []
  }
 ],
 "metadata": {
  "language_info": {
   "name": "python"
  }
 },
 "nbformat": 4,
 "nbformat_minor": 2
}
