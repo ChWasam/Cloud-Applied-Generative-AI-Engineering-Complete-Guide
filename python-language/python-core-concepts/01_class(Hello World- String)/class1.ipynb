{
 "cells": [
  {
   "cell_type": "markdown",
   "metadata": {},
   "source": [
    "# Welcome to the world of static python with Chaudhry Wasam"
   ]
  },
  {
   "cell_type": "code",
   "execution_count": 1,
   "metadata": {},
   "outputs": [
    {
     "name": "stdout",
     "output_type": "stream",
     "text": [
      "Wasam\n"
     ]
    }
   ],
   "source": [
    "print(\"Wasam\")"
   ]
  },
  {
   "cell_type": "code",
   "execution_count": 1,
   "metadata": {},
   "outputs": [
    {
     "name": "stdout",
     "output_type": "stream",
     "text": [
      "Requirement already satisfied: mypy in c:\\users\\user\\anaconda3\\envs\\pythonpracticestatic12\\lib\\site-packages (1.8.0)\n",
      "Requirement already satisfied: typing-extensions>=4.1.0 in c:\\users\\user\\anaconda3\\envs\\pythonpracticestatic12\\lib\\site-packages (from mypy) (4.9.0)\n",
      "Requirement already satisfied: mypy-extensions>=1.0.0 in c:\\users\\user\\anaconda3\\envs\\pythonpracticestatic12\\lib\\site-packages (from mypy) (1.0.0)\n"
     ]
    }
   ],
   "source": [
    "! pip install mypy\n"
   ]
  },
  {
   "cell_type": "code",
   "execution_count": null,
   "metadata": {},
   "outputs": [],
   "source": [
    "name : str = 700"
   ]
  }
 ],
 "metadata": {
  "kernelspec": {
   "display_name": "base",
   "language": "python",
   "name": "python3"
  },
  "language_info": {
   "codemirror_mode": {
    "name": "ipython",
    "version": 3
   },
   "file_extension": ".py",
   "mimetype": "text/x-python",
   "name": "python",
   "nbconvert_exporter": "python",
   "pygments_lexer": "ipython3",
   "version": "3.12.0"
  }
 },
 "nbformat": 4,
 "nbformat_minor": 2
}
