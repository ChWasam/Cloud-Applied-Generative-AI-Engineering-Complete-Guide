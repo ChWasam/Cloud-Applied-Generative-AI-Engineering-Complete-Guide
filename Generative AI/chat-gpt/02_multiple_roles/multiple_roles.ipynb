{
 "cells": [
  {
   "cell_type": "markdown",
   "metadata": {},
   "source": [
    "# Multiple Roles"
   ]
  },
  {
   "cell_type": "code",
   "execution_count": 1,
   "metadata": {},
   "outputs": [
    {
     "name": "stdout",
     "output_type": "stream",
     "text": [
      "Python 3.11.5\n"
     ]
    }
   ],
   "source": [
    "! python --version"
   ]
  },
  {
   "cell_type": "code",
   "execution_count": 3,
   "metadata": {},
   "outputs": [
    {
     "name": "stdout",
     "output_type": "stream",
     "text": [
      "Requirement already satisfied: python-dotenv in c:\\users\\user\\anaconda3\\envs\\myopenai\\lib\\site-packages (from -r requirements.txt (line 1)) (1.0.1)\n",
      "Requirement already satisfied: openai in c:\\users\\user\\anaconda3\\envs\\myopenai\\lib\\site-packages (from -r requirements.txt (line 2)) (1.12.0)\n",
      "Requirement already satisfied: anyio<5,>=3.5.0 in c:\\users\\user\\anaconda3\\envs\\myopenai\\lib\\site-packages (from openai->-r requirements.txt (line 2)) (4.3.0)\n",
      "Requirement already satisfied: distro<2,>=1.7.0 in c:\\users\\user\\anaconda3\\envs\\myopenai\\lib\\site-packages (from openai->-r requirements.txt (line 2)) (1.9.0)\n",
      "Requirement already satisfied: httpx<1,>=0.23.0 in c:\\users\\user\\anaconda3\\envs\\myopenai\\lib\\site-packages (from openai->-r requirements.txt (line 2)) (0.26.0)\n",
      "Requirement already satisfied: pydantic<3,>=1.9.0 in c:\\users\\user\\anaconda3\\envs\\myopenai\\lib\\site-packages (from openai->-r requirements.txt (line 2)) (1.10.14)\n",
      "Requirement already satisfied: sniffio in c:\\users\\user\\anaconda3\\envs\\myopenai\\lib\\site-packages (from openai->-r requirements.txt (line 2)) (1.3.0)\n",
      "Requirement already satisfied: tqdm>4 in c:\\users\\user\\anaconda3\\envs\\myopenai\\lib\\site-packages (from openai->-r requirements.txt (line 2)) (4.66.2)\n",
      "Requirement already satisfied: typing-extensions<5,>=4.7 in c:\\users\\user\\anaconda3\\envs\\myopenai\\lib\\site-packages (from openai->-r requirements.txt (line 2)) (4.9.0)\n",
      "Requirement already satisfied: idna>=2.8 in c:\\users\\user\\anaconda3\\envs\\myopenai\\lib\\site-packages (from anyio<5,>=3.5.0->openai->-r requirements.txt (line 2)) (3.6)\n",
      "Requirement already satisfied: certifi in c:\\users\\user\\anaconda3\\envs\\myopenai\\lib\\site-packages (from httpx<1,>=0.23.0->openai->-r requirements.txt (line 2)) (2024.2.2)\n",
      "Requirement already satisfied: httpcore==1.* in c:\\users\\user\\anaconda3\\envs\\myopenai\\lib\\site-packages (from httpx<1,>=0.23.0->openai->-r requirements.txt (line 2)) (1.0.3)\n",
      "Requirement already satisfied: h11<0.15,>=0.13 in c:\\users\\user\\anaconda3\\envs\\myopenai\\lib\\site-packages (from httpcore==1.*->httpx<1,>=0.23.0->openai->-r requirements.txt (line 2)) (0.14.0)\n",
      "Requirement already satisfied: colorama in c:\\users\\user\\anaconda3\\envs\\myopenai\\lib\\site-packages (from tqdm>4->openai->-r requirements.txt (line 2)) (0.4.6)\n"
     ]
    }
   ],
   "source": [
    "! pip install -r requirements.txt"
   ]
  },
  {
   "cell_type": "code",
   "execution_count": 4,
   "metadata": {},
   "outputs": [],
   "source": [
    "from openai import OpenAI\n",
    "from dotenv import load_dotenv , find_dotenv\n",
    "\n",
    "_ : bool = load_dotenv (find_dotenv())\n",
    "\n",
    "client : OpenAI = OpenAI()\n"
   ]
  },
  {
   "cell_type": "code",
   "execution_count": 6,
   "metadata": {},
   "outputs": [
    {
     "data": {
      "text/plain": [
       "'On this field of battle, let your hearts be still,\\nFor the game is but a moment, and not a bitter pill.\\nBreathe deeply, find your peace, and let your talent shine,\\nFor victory lies not in anger, but in unity divine.'"
      ]
     },
     "execution_count": 6,
     "metadata": {},
     "output_type": "execute_result"
    }
   ],
   "source": [
    "from openai.types.chat.chat_completion import ChatCompletion\n",
    "\n",
    "def chat_completion (prompt : str)->str:\n",
    "    completion : ChatCompletion = client.chat.completions.create(\n",
    "        model = \"gpt-3.5-turbo-1106\",\n",
    "        messages = [\n",
    "\n",
    "            {\"role\" : \"system\",\n",
    "             \"content\" : \"You are a psychiatrist and a wellknown poet, currently associated with pakistan team, skilled in making sure that players will keep calm and relax before match\",\n",
    "             },\n",
    "\n",
    "             {\n",
    "              \"role\" : \"user\",\n",
    "              \"content\" : prompt,\n",
    "             }\n",
    "        ]\n",
    "    )\n",
    "    # display(dict(completion))\n",
    "    return completion.choices[0].message.content\n",
    "\n",
    "chat_completion(\"A cricket match between Pakistan and India is going to start in 30 minutes. Remember Pakistan and India are arch-rivals. You need to deliver a poem to keep players calm. what will you say? Give answer in 4 lines\")"
   ]
  }
 ],
 "metadata": {
  "kernelspec": {
   "display_name": "myopenai",
   "language": "python",
   "name": "python3"
  },
  "language_info": {
   "codemirror_mode": {
    "name": "ipython",
    "version": 3
   },
   "file_extension": ".py",
   "mimetype": "text/x-python",
   "name": "python",
   "nbconvert_exporter": "python",
   "pygments_lexer": "ipython3",
   "version": "3.11.5"
  }
 },
 "nbformat": 4,
 "nbformat_minor": 2
}
